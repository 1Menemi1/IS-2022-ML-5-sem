{
  "nbformat": 4,
  "nbformat_minor": 0,
  "metadata": {
    "colab": {
      "provenance": [],
      "collapsed_sections": [
        "MFKSC2UUA7Ne",
        "Mth2u7nzAiqw",
        "JrEY8hzdfmM2",
        "mrm41pzufmNy",
        "2kJObRBHfmOd",
        "ylh_09YIfmOg",
        "QeBH-jT4fmOy"
      ]
    },
    "kernelspec": {
      "display_name": "Python 3",
      "language": "python",
      "name": "python3"
    },
    "language_info": {
      "codemirror_mode": {
        "name": "ipython",
        "version": 3
      },
      "file_extension": ".py",
      "mimetype": "text/x-python",
      "name": "python",
      "nbconvert_exporter": "python",
      "pygments_lexer": "ipython3",
      "version": "3.7.4"
    }
  },
  "cells": [
    {
      "cell_type": "markdown",
      "source": [
        "Перед началом выполнения, сделайте копию этого colab'а. Чтобы сделать копию нужно в пункте меню Файл выбрать \"Сохранить копию на диске\""
      ],
      "metadata": {
        "id": "131T1pm5PaF4"
      }
    },
    {
      "cell_type": "markdown",
      "metadata": {
        "id": "BsNwjQDRfmLY"
      },
      "source": [
        "# Задание 1"
      ]
    },
    {
      "cell_type": "markdown",
      "metadata": {
        "id": "wu6r1-s7fmLe"
      },
      "source": [
        "---"
      ]
    },
    {
      "cell_type": "markdown",
      "metadata": {
        "id": "zxRIdPO9gYyX"
      },
      "source": [
        "Напишите программу, которая будет решать систему линейных уравнений вида:\n",
        "\n",
        "\\begin{matrix} a_{11}x+a_{12}y=b_{1}&(1) \\\\ a_{21}x+a_{22}y=b_{2} &(2) \\end{matrix}\n",
        "​\t\n",
        "На вход программа должна принимать 2 строки.\n",
        "\n",
        "Каждая строка содержит 3 действительных числа через пробел: коэффициенты a и b.\n",
        "\n",
        "На выходе программа должна выдавать значения x и y в одну строку через пробел.\n",
        " \n",
        "\n",
        "Примечание 1. Для разделения строки на отдельные элементы используйте функцию split()\n",
        "\n",
        "Примечание 2. В качестве разделителя между целой и дробной частью используйте точку, например 0.2"
      ]
    },
    {
      "cell_type": "code",
      "metadata": {
        "id": "6sxlcLbVlrjl",
        "colab": {
          "base_uri": "https://localhost:8080/"
        },
        "outputId": "765ba5f3-fdc2-4325-9464-de61a319d544"
      },
      "source": [
        "def linan(equation1, equation2):\n",
        "  a11, a12, b1 = list(map(float, equation1.split()))\n",
        "  a21, a22, b2 = list(map(float, equation2.split()))\n",
        "  y = (b2 * a11 - b1 * a21) / (a11 * a22 - a12 * a21)\n",
        "  x = (b1 - a12 * y) / a11\n",
        "  return x, y\n",
        "\n",
        "equation1 = input()\n",
        "equation2 = input()\n",
        "print(linan(equation1, equation2))"
      ],
      "execution_count": null,
      "outputs": [
        {
          "output_type": "stream",
          "name": "stdout",
          "text": [
            "2 3 4\n",
            "5 6 7\n",
            "(-1.0, 2.0)\n"
          ]
        }
      ]
    },
    {
      "cell_type": "markdown",
      "source": [
        "### Подсказка 1"
      ],
      "metadata": {
        "id": "kElPCFyiua9I"
      }
    },
    {
      "cell_type": "code",
      "source": [],
      "metadata": {
        "id": "jwjE2xldue0h"
      },
      "execution_count": null,
      "outputs": []
    },
    {
      "cell_type": "markdown",
      "metadata": {
        "id": "wLoVDMQnfmOv"
      },
      "source": [
        "# Задание 2"
      ]
    },
    {
      "cell_type": "markdown",
      "metadata": {
        "id": "6bmt_YF3fmOw"
      },
      "source": [
        "Напишите функцию `decorate_matrix`, которая получает на вход одно целое число больше единицы. Функция должна возвращать матрицу n на n, у которой на границах стоят единицы, а на всех остальных позициях(если остались позиции не на границах) стоят нули.\n",
        "\n",
        "Нужно сделать без использования  циклов.\n",
        "\n",
        "```\n",
        "# ожидаемый резальтат для аргумента 5\n",
        "array([[1., 1., 1., 1., 1.],\n",
        "[1., 0., 0., 0., 1.],\n",
        "[1., 0., 0., 0., 1.],\n",
        "[1., 0., 0., 0., 1.],\n",
        "[1., 1., 1., 1., 1.]])\n",
        "```\n",
        "\n"
      ]
    },
    {
      "cell_type": "code",
      "source": [
        "import numpy"
      ],
      "metadata": {
        "id": "WgWXuZBpMDyd"
      },
      "execution_count": null,
      "outputs": []
    },
    {
      "cell_type": "code",
      "source": [
        "def decorate_matrix(number):\n",
        "  arr = numpy.ones((number, number))\n",
        "  arr[1:number-1, 1:number-1] = 0\n",
        "  return arr\n",
        "\n",
        "print(decorate_matrix(int(input())))"
      ],
      "metadata": {
        "colab": {
          "base_uri": "https://localhost:8080/"
        },
        "id": "d3vUC43uLoqn",
        "outputId": "2254a6cb-268d-43db-df5b-9457c0cd0862"
      },
      "execution_count": null,
      "outputs": [
        {
          "output_type": "stream",
          "name": "stdout",
          "text": [
            "6\n",
            "[[1. 1. 1. 1. 1. 1.]\n",
            " [1. 0. 0. 0. 0. 1.]\n",
            " [1. 0. 0. 0. 0. 1.]\n",
            " [1. 0. 0. 0. 0. 1.]\n",
            " [1. 0. 0. 0. 0. 1.]\n",
            " [1. 1. 1. 1. 1. 1.]]\n"
          ]
        }
      ]
    },
    {
      "cell_type": "markdown",
      "metadata": {
        "id": "75sxny1zSCbl"
      },
      "source": [
        "# Задание 3"
      ]
    },
    {
      "cell_type": "markdown",
      "metadata": {
        "id": "2Xq1tBBAS5UJ"
      },
      "source": [
        "1) реализуйте 2 функции:\n",
        "\n",
        "$f(x) = (x+a)^2 - b$ \n",
        "\n",
        "$g(x) = |f(x)|$\n",
        "\n",
        "2) Найдите аргументы, при которых достигается минимум функций $f(x)$ и $g(x)$\n",
        "\n",
        "Пример. \n",
        "Входные значение: $a=3$ и $b=4$\n",
        "\n",
        "Выходные значения:\n",
        "\n",
        "`-3.0 -1.0`"
      ]
    },
    {
      "cell_type": "code",
      "source": [
        "from math import sqrt"
      ],
      "metadata": {
        "id": "nVrXABtWTJTx"
      },
      "execution_count": null,
      "outputs": []
    },
    {
      "cell_type": "code",
      "source": [
        "a, b = list(map(float, input().split()))\n",
        "minimum_f = -a\n",
        "\n",
        "if (-b < 0):\n",
        "  minimum_g1 = sqrt(b) - a\n",
        "  minimum_g2 = -sqrt(b) - a\n",
        "  print(minimum_f, minimum_g1, minimum_g2)\n",
        "else:\n",
        "  minimum_g1, minimum_g2 = -a\n",
        "  print(minimum_f, minimum_g1, minimum_g2)"
      ],
      "metadata": {
        "colab": {
          "base_uri": "https://localhost:8080/"
        },
        "id": "smiOWpl1S1gB",
        "outputId": "ffa926a6-9a69-474b-8eb1-338822e975da"
      },
      "execution_count": null,
      "outputs": [
        {
          "output_type": "stream",
          "name": "stdout",
          "text": [
            "3 4\n",
            "-3.0 -1.0 -5.0\n"
          ]
        }
      ]
    },
    {
      "cell_type": "markdown",
      "metadata": {
        "id": "efml9GzISC9Q"
      },
      "source": [
        "# Задание 4"
      ]
    },
    {
      "cell_type": "markdown",
      "metadata": {
        "id": "SDZvKcsTVbAW"
      },
      "source": [
        "Постройте графики для функций из предыдущего задания и отметьте другим цветом на графиках точки найденных минимумов."
      ]
    },
    {
      "cell_type": "code",
      "source": [
        "import matplotlib.pyplot as plt"
      ],
      "metadata": {
        "id": "0qE-X36rbXrt"
      },
      "execution_count": null,
      "outputs": []
    },
    {
      "cell_type": "code",
      "source": [
        "def func_f(x):\n",
        "  return (x + a) ** 2 - b\n",
        "\n",
        "def func_g(x):\n",
        "  return abs(func_f(x))\n",
        "\n",
        "arr_x = numpy.linspace(-10, 10, 1000)\n",
        "arr_y_f = list(map(func_f, arr_x))\n",
        "arr_y_g = list(map(func_g, arr_x))\n",
        "\n",
        "plt.plot(arr_x, arr_y_f)\n",
        "plt.plot(arr_x, arr_y_g)\n",
        "plt.scatter(minimum_f, func_f(minimum_f), color='black')\n",
        "plt.scatter(minimum_g1, func_g(minimum_g1), color='green')\n",
        "plt.scatter(minimum_g2, func_g(minimum_g2), color='green')"
      ],
      "metadata": {
        "colab": {
          "base_uri": "https://localhost:8080/",
          "height": 282
        },
        "id": "8Oa-o3RUayRa",
        "outputId": "948c28d3-135f-4aa8-de7f-ab42da9aa559"
      },
      "execution_count": null,
      "outputs": [
        {
          "output_type": "execute_result",
          "data": {
            "text/plain": [
              "<matplotlib.collections.PathCollection at 0x7fc610c6bed0>"
            ]
          },
          "metadata": {},
          "execution_count": 15
        },
        {
          "output_type": "display_data",
          "data": {
            "text/plain": [
              "<Figure size 432x288 with 1 Axes>"
            ],
            "image/png": "[encoded data removed]"
          },
          "metadata": {
            "needs_background": "light"
          }
        }
      ]
    },
    {
      "cell_type": "markdown",
      "metadata": {
        "id": "mrby3EfiSDKJ"
      },
      "source": [
        "# Задание 5"
      ]
    },
    {
      "cell_type": "markdown",
      "metadata": {
        "id": "J6AZ8785VkQd"
      },
      "source": [
        "1000 человек бросают монетку. Каждый бросил 10 раз подряд.\n",
        "\n",
        " 1. Какова вероятность того, что хотя бы у одного человека монетка выпала 10 раз подряд той же самой стороной (орлом или решкой)? \n",
        " 2. Какова вероятность того, что хотя бы у одного человека монетка выпала 8 раз подряд той же самой стороной (орлом или решкой)? \n",
        " 3. Какова вероятность того, что ровно у троих человек из 1000 монетка выпала 10 раз подряд той же самой стороной (орлом или решкой)?"
      ]
    },
    {
      "cell_type": "markdown",
      "source": [
        "Две разные ситуации для 2 подпункта, то есть наглядная демонстрация удачных вариантов для нашего условия \n",
        "![Без имени.png](data:image/png;base64,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)"
      ],
      "metadata": {
        "id": "DPF-2R480TE6"
      }
    },
    {
      "cell_type": "code",
      "source": [
        "# округляю до 6 цифр после запятой, так как считаю, что так ответ выглядит правильнее\n",
        "# потому что во втором подзадании при выпадении монетки 8 или более раз всё-таки ответ не 100%\n",
        "\n",
        "# берём 2 ** 9, а не 2 ** 10, потому что нам неважно, какой стороной упадёт первая монета при первом броске\n",
        "print('task-1: ', round((1 - ((1 - (1 / (2 ** 9))) ** 1000)) * 100, 6), '%', sep='') \n",
        "\n",
        "# ситуация при ровно 8 выпадениях подряд\n",
        "# 10 / 2 ** 10 : вероятность выпадения 8 (10 в числителе, тк всего 10 вариантов такого события делится на количество всевозможных ситуаций выпадения)\n",
        "# 1 - (10 / 2 ** 10) : вероятность выпадения НЕ 8\n",
        "# (1 / (2 ** 9))) ** 1000 : 1000 человек, поэтому степень - 1000\n",
        "# итог : вероятность, что хотя бы у одного человека монетка выпала 8 раз подряд\n",
        "print('task-2.1: ', round((1 - (1 - 10 / 2 ** 10) ** 1000) * 100, 6), '%', sep='')\n",
        "\n",
        "# ситуация при 8 и более выпадениях подряд\n",
        "# всё тоже самое, что и в прошлый раз, но тут 10 меняется на 16\n",
        "# тк просто больше вариантов для выпадения 8 и более раз\n",
        "print('task-2.2: ', round((1 - (1 - 16 / 2 ** 10) ** 1000) * 100, 6), '%', sep='')\n",
        "\n",
        "# (2 / 2 ** 10) ** 3 : вероятность выпадения у троих людей 10 одинаковых монет\n",
        "# 166167000 : C^{3}_{1000} (можно было бы написать через формулу, но решил посчитать заранее для сокращения кода)\n",
        "# C^{3}_{1000} : количество возможных троек людей\n",
        "# (2 ** 10 - 2) / 2 ** 10 : вероятность, что у остальных 1000-3 людей выпадет не 10\n",
        "print('task-3: ', round(((2 / 2 ** 10) ** 3) * 166167000 * ((2 ** 10 - 2) / 2 ** 10)\n",
        "      ** (1000 - 3) * 100, 6), '%', sep='')  "
      ],
      "metadata": {
        "colab": {
          "base_uri": "https://localhost:8080/"
        },
        "id": "ja-RU63uepKN",
        "outputId": "027844f1-8edb-4d69-a42c-080969cab09a"
      },
      "execution_count": null,
      "outputs": [
        {
          "output_type": "stream",
          "name": "stdout",
          "text": [
            "task-1: 85.844045%\n",
            "task-2.1: 99.99453%\n",
            "task-2.2: 99.999986%\n",
            "task-3: 17.628739%\n"
          ]
        }
      ]
    }
  ]
}