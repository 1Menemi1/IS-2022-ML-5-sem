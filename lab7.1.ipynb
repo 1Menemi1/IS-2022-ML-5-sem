{
  "nbformat": 4,
  "nbformat_minor": 0,
  "metadata": {
    "colab": {
      "provenance": [],
      "toc_visible": true
    },
    "kernelspec": {
      "display_name": "Python 3",
      "language": "python",
      "name": "python3"
    },
    "language_info": {
      "codemirror_mode": {
        "name": "ipython",
        "version": 3
      },
      "file_extension": ".py",
      "mimetype": "text/x-python",
      "name": "python",
      "nbconvert_exporter": "python",
      "pygments_lexer": "ipython3",
      "version": "3.6.5"
    },
    "accelerator": "GPU",
    "gpuClass": "standard"
  },
  "cells": [
    {
      "cell_type": "markdown",
      "metadata": {
        "id": "vcnGdgw_YJ8u"
      },
      "source": [
        "# PyTorch. Основы: синтаксис, torch.cuda и torch.autograd\n",
        "\n",
        "## Задание 7.1"
      ]
    },
    {
      "cell_type": "code",
      "metadata": {
        "id": "RtyozNmmYJ89"
      },
      "source": [
        "import torch\n",
        "import matplotlib.pyplot as plt\n",
        "from torch.autograd import Variable"
      ],
      "execution_count": null,
      "outputs": []
    },
    {
      "cell_type": "markdown",
      "metadata": {
        "id": "ny4-Qi2wYJ-6"
      },
      "source": [
        "### Задача 1"
      ]
    },
    {
      "cell_type": "markdown",
      "metadata": {
        "id": "IWxlFq0bYJ-_"
      },
      "source": [
        "1). Создайте два вещественных тензора: `a` размером (3, 4) и `b` размером (12,)   \n",
        "2). Создайте тензор `c`, являющийся тензором `b`, но размера (2, 2, 3)  \n",
        "3). Выведите первый столбец матрицы `a` с помощью индексации"
      ]
    },
    {
      "cell_type": "markdown",
      "source": [
        "#### 1"
      ],
      "metadata": {
        "id": "MXpJkZx61adY"
      }
    },
    {
      "cell_type": "code",
      "metadata": {
        "id": "3oxZuk3yYJ_A",
        "colab": {
          "base_uri": "https://localhost:8080/"
        },
        "outputId": "bbf9a93d-3a36-4cbe-cd8e-f41c97da434c"
      },
      "source": [
        "a = torch.randn((3,4)).uniform_(0, 1) # Равномерно U[0, 1]\n",
        "a.shape"
      ],
      "execution_count": null,
      "outputs": [
        {
          "output_type": "execute_result",
          "data": {
            "text/plain": [
              "torch.Size([3, 4])"
            ]
          },
          "metadata": {},
          "execution_count": 2
        }
      ]
    },
    {
      "cell_type": "code",
      "source": [
        "b = torch.randn(12).normal_(mean=0, std=1) # Нормальное со средним 0 и дисперсией 1\n",
        "b.shape"
      ],
      "metadata": {
        "colab": {
          "base_uri": "https://localhost:8080/"
        },
        "id": "JAm99seT1VU2",
        "outputId": "aef83255-854d-4ed6-d6f2-56175b1a09aa"
      },
      "execution_count": null,
      "outputs": [
        {
          "output_type": "execute_result",
          "data": {
            "text/plain": [
              "torch.Size([12])"
            ]
          },
          "metadata": {},
          "execution_count": 4
        }
      ]
    },
    {
      "cell_type": "markdown",
      "source": [
        "#### 2"
      ],
      "metadata": {
        "id": "0V_5bpJ61dWf"
      }
    },
    {
      "cell_type": "code",
      "source": [
        "c = b.view(2, 2, 3)\n",
        "c.shape"
      ],
      "metadata": {
        "colab": {
          "base_uri": "https://localhost:8080/"
        },
        "id": "0a9i7C0U1W2x",
        "outputId": "b2c923b0-ac0f-47e3-ca20-ad78e260237e"
      },
      "execution_count": null,
      "outputs": [
        {
          "output_type": "execute_result",
          "data": {
            "text/plain": [
              "torch.Size([2, 2, 3])"
            ]
          },
          "metadata": {},
          "execution_count": 5
        }
      ]
    },
    {
      "cell_type": "markdown",
      "source": [
        "#### 3"
      ],
      "metadata": {
        "id": "rX6FjvJM1eAv"
      }
    },
    {
      "cell_type": "code",
      "source": [
        "[row[0].item() for row in a]"
      ],
      "metadata": {
        "colab": {
          "base_uri": "https://localhost:8080/"
        },
        "id": "VT7I8O6_1YEe",
        "outputId": "5e8cd08f-abb9-4acc-935e-f378d5a50a91"
      },
      "execution_count": null,
      "outputs": [
        {
          "output_type": "execute_result",
          "data": {
            "text/plain": [
              "[0.439330518245697, 0.36960411071777344, 0.02551323175430298]"
            ]
          },
          "metadata": {},
          "execution_count": 6
        }
      ]
    },
    {
      "cell_type": "markdown",
      "metadata": {
        "id": "D2IP_FrKYKAA"
      },
      "source": [
        "### Задача 2"
      ]
    },
    {
      "cell_type": "markdown",
      "metadata": {
        "id": "tBZFbSYQYKAA"
      },
      "source": [
        "1). Создайте два вещественных тензора: `a` размером (5, 2) и `b` размером (1,10)   \n",
        "2). Создайте тензор `c`, являющийся тензором `b`, но размера (5, 2)  \n",
        "3). Произведите все арифметические операции с тензорами `a` и `c`"
      ]
    },
    {
      "cell_type": "markdown",
      "source": [
        "#### 1"
      ],
      "metadata": {
        "id": "sJZbSD921hlI"
      }
    },
    {
      "cell_type": "code",
      "metadata": {
        "id": "hzs2bH3GYKAB"
      },
      "source": [
        "a_2 = torch.FloatTensor([\n",
        "                         [1.1, 2.2],\n",
        "                         [3, 4],\n",
        "                         [5, 6],\n",
        "                         [7, 8],\n",
        "                         [9, 10]\n",
        "])\n",
        "b_2 = torch.FloatTensor([-1.1, -2.2, -3, -4, -5, -6, -7, -8, -9, -10])"
      ],
      "execution_count": null,
      "outputs": []
    },
    {
      "cell_type": "markdown",
      "source": [
        "#### 2"
      ],
      "metadata": {
        "id": "Df2tt3RF1jgM"
      }
    },
    {
      "cell_type": "code",
      "source": [
        "c_2 = b_2.view(5, 2)\n",
        "c_2"
      ],
      "metadata": {
        "colab": {
          "base_uri": "https://localhost:8080/"
        },
        "id": "tW1bb_Nk1lOM",
        "outputId": "f33d558e-cee1-430e-c048-9bf73f9df2f6"
      },
      "execution_count": null,
      "outputs": [
        {
          "output_type": "execute_result",
          "data": {
            "text/plain": [
              "tensor([[ -1.1000,  -2.2000],\n",
              "        [ -3.0000,  -4.0000],\n",
              "        [ -5.0000,  -6.0000],\n",
              "        [ -7.0000,  -8.0000],\n",
              "        [ -9.0000, -10.0000]])"
            ]
          },
          "metadata": {},
          "execution_count": 8
        }
      ]
    },
    {
      "cell_type": "markdown",
      "source": [
        "#### 3"
      ],
      "metadata": {
        "id": "TExN14251j76"
      }
    },
    {
      "cell_type": "code",
      "source": [
        "print(a_2, '\\n', c_2)"
      ],
      "metadata": {
        "colab": {
          "base_uri": "https://localhost:8080/"
        },
        "id": "jWIjEiYh1nFQ",
        "outputId": "e161a28f-ed8a-4d72-b4d3-409c9702a179"
      },
      "execution_count": null,
      "outputs": [
        {
          "output_type": "stream",
          "name": "stdout",
          "text": [
            "tensor([[ 1.1000,  2.2000],\n",
            "        [ 3.0000,  4.0000],\n",
            "        [ 5.0000,  6.0000],\n",
            "        [ 7.0000,  8.0000],\n",
            "        [ 9.0000, 10.0000]]) \n",
            " tensor([[ -1.1000,  -2.2000],\n",
            "        [ -3.0000,  -4.0000],\n",
            "        [ -5.0000,  -6.0000],\n",
            "        [ -7.0000,  -8.0000],\n",
            "        [ -9.0000, -10.0000]])\n"
          ]
        }
      ]
    },
    {
      "cell_type": "markdown",
      "source": [
        "##### Сложение"
      ],
      "metadata": {
        "id": "lNSVhIOy15l5"
      }
    },
    {
      "cell_type": "code",
      "source": [
        "a_2 + c_2"
      ],
      "metadata": {
        "colab": {
          "base_uri": "https://localhost:8080/"
        },
        "id": "rdtUtcXP1qLf",
        "outputId": "10e3746f-fb83-426e-93b1-ef9c5754dc4a"
      },
      "execution_count": null,
      "outputs": [
        {
          "output_type": "execute_result",
          "data": {
            "text/plain": [
              "tensor([[0., 0.],\n",
              "        [0., 0.],\n",
              "        [0., 0.],\n",
              "        [0., 0.],\n",
              "        [0., 0.]])"
            ]
          },
          "metadata": {},
          "execution_count": 10
        }
      ]
    },
    {
      "cell_type": "code",
      "source": [
        "a_2.add(c_2)"
      ],
      "metadata": {
        "colab": {
          "base_uri": "https://localhost:8080/"
        },
        "id": "I0t9SfGi1rGR",
        "outputId": "709bd753-1b96-4b52-a034-fe71b173d73d"
      },
      "execution_count": null,
      "outputs": [
        {
          "output_type": "execute_result",
          "data": {
            "text/plain": [
              "tensor([[0., 0.],\n",
              "        [0., 0.],\n",
              "        [0., 0.],\n",
              "        [0., 0.],\n",
              "        [0., 0.]])"
            ]
          },
          "metadata": {},
          "execution_count": 11
        }
      ]
    },
    {
      "cell_type": "markdown",
      "source": [
        "##### Вычитание"
      ],
      "metadata": {
        "id": "a6fYxsnH17XO"
      }
    },
    {
      "cell_type": "code",
      "source": [
        "a_2 - c_2"
      ],
      "metadata": {
        "colab": {
          "base_uri": "https://localhost:8080/"
        },
        "id": "KJwy-3wl1r85",
        "outputId": "942255fa-5dc2-4711-d8ba-9796eef3790a"
      },
      "execution_count": null,
      "outputs": [
        {
          "output_type": "execute_result",
          "data": {
            "text/plain": [
              "tensor([[ 2.2000,  4.4000],\n",
              "        [ 6.0000,  8.0000],\n",
              "        [10.0000, 12.0000],\n",
              "        [14.0000, 16.0000],\n",
              "        [18.0000, 20.0000]])"
            ]
          },
          "metadata": {},
          "execution_count": 12
        }
      ]
    },
    {
      "cell_type": "code",
      "source": [
        "a_2.sub(c_2) # copy (don't change a_2)\n",
        "# a_2.sub_(c_2) # inpalce (change a_2)"
      ],
      "metadata": {
        "colab": {
          "base_uri": "https://localhost:8080/"
        },
        "id": "GbOShaPu1s8o",
        "outputId": "40f18b06-cabd-4e26-e909-3db8036b1ada"
      },
      "execution_count": null,
      "outputs": [
        {
          "output_type": "execute_result",
          "data": {
            "text/plain": [
              "tensor([[ 2.2000,  4.4000],\n",
              "        [ 6.0000,  8.0000],\n",
              "        [10.0000, 12.0000],\n",
              "        [14.0000, 16.0000],\n",
              "        [18.0000, 20.0000]])"
            ]
          },
          "metadata": {},
          "execution_count": 13
        }
      ]
    },
    {
      "cell_type": "markdown",
      "source": [
        "##### Умножение"
      ],
      "metadata": {
        "id": "tvAbA9vy18lU"
      }
    },
    {
      "cell_type": "code",
      "source": [
        "a_2 * c_2"
      ],
      "metadata": {
        "colab": {
          "base_uri": "https://localhost:8080/"
        },
        "id": "tP3gjw0V1unl",
        "outputId": "f9408146-33e3-4f05-a127-793f73b1d189"
      },
      "execution_count": null,
      "outputs": [
        {
          "output_type": "execute_result",
          "data": {
            "text/plain": [
              "tensor([[  -1.2100,   -4.8400],\n",
              "        [  -9.0000,  -16.0000],\n",
              "        [ -25.0000,  -36.0000],\n",
              "        [ -49.0000,  -64.0000],\n",
              "        [ -81.0000, -100.0000]])"
            ]
          },
          "metadata": {},
          "execution_count": 14
        }
      ]
    },
    {
      "cell_type": "code",
      "source": [
        "a_2.mul(c_2)"
      ],
      "metadata": {
        "colab": {
          "base_uri": "https://localhost:8080/"
        },
        "id": "zM7K-Ez51vRy",
        "outputId": "d823d83b-ccc5-4efe-996b-c0341df527f6"
      },
      "execution_count": null,
      "outputs": [
        {
          "output_type": "execute_result",
          "data": {
            "text/plain": [
              "tensor([[  -1.2100,   -4.8400],\n",
              "        [  -9.0000,  -16.0000],\n",
              "        [ -25.0000,  -36.0000],\n",
              "        [ -49.0000,  -64.0000],\n",
              "        [ -81.0000, -100.0000]])"
            ]
          },
          "metadata": {},
          "execution_count": 15
        }
      ]
    },
    {
      "cell_type": "markdown",
      "source": [
        "##### Деление"
      ],
      "metadata": {
        "id": "QfBvmua019vy"
      }
    },
    {
      "cell_type": "code",
      "source": [
        "a_2 / c_2"
      ],
      "metadata": {
        "colab": {
          "base_uri": "https://localhost:8080/"
        },
        "id": "DJadwkaQ1w9j",
        "outputId": "4f7d8956-48fc-4170-cb3d-2545e0035a8e"
      },
      "execution_count": null,
      "outputs": [
        {
          "output_type": "execute_result",
          "data": {
            "text/plain": [
              "tensor([[-1., -1.],\n",
              "        [-1., -1.],\n",
              "        [-1., -1.],\n",
              "        [-1., -1.],\n",
              "        [-1., -1.]])"
            ]
          },
          "metadata": {},
          "execution_count": 16
        }
      ]
    },
    {
      "cell_type": "code",
      "source": [
        "a_2.div(c_2)"
      ],
      "metadata": {
        "colab": {
          "base_uri": "https://localhost:8080/"
        },
        "id": "Ra9mf8fN1xvf",
        "outputId": "094437de-84e5-4877-9185-d256c12ae5f1"
      },
      "execution_count": null,
      "outputs": [
        {
          "output_type": "execute_result",
          "data": {
            "text/plain": [
              "tensor([[-1., -1.],\n",
              "        [-1., -1.],\n",
              "        [-1., -1.],\n",
              "        [-1., -1.],\n",
              "        [-1., -1.]])"
            ]
          },
          "metadata": {},
          "execution_count": 17
        }
      ]
    },
    {
      "cell_type": "markdown",
      "metadata": {
        "id": "rIaroFO6YKBT"
      },
      "source": [
        "### Задача 3"
      ]
    },
    {
      "cell_type": "markdown",
      "metadata": {
        "id": "GfLHVvKvYKBT"
      },
      "source": [
        "1). Создайте тензор *целых чисел* `images` размерности (100, 200, 200, 3) (можно интерпретировать это как 100 картинок размера 200х200 с тремя цветовыми каналами, то есть 100 цветных изображений 200х200). Заполните его нулями  \n",
        "\n",
        "2). Сделайте так, чтобы у $i$-ой по порядку картинки была нарисована белая полоса толщиной два пикселя в строках, которые соответствуют номеру картинки. Например, у 3-ей по порядку картинки белая полоска будет занимать 6 и 7 строки, у 99 - 198 и 199. Сделать белую строку можно, записав в ячейки тензора число 255 (по всем трём каналам). Выведите несколько примеров с помощью `pylot`  \n",
        "\n",
        "3). Посчитайте среднее тензора `images` по 1-ой оси (по сути - средняя картинка), умножьте полученный тензор на 70. Нарисуйте с помощью `pyplot`, должна получиться серая картинка (при взятии среднего нужно привести тензор к float с помощью `.float()`, при отрисовке обратно к int с помощью `.int()`)"
      ]
    },
    {
      "cell_type": "code",
      "source": [
        "a_2"
      ],
      "metadata": {
        "colab": {
          "base_uri": "https://localhost:8080/"
        },
        "id": "Qo6xGsjy2E7j",
        "outputId": "5533a5c0-e39a-46ec-b5f6-c4dcc50dfd02"
      },
      "execution_count": null,
      "outputs": [
        {
          "output_type": "execute_result",
          "data": {
            "text/plain": [
              "tensor([[ 1.1000,  2.2000],\n",
              "        [ 3.0000,  4.0000],\n",
              "        [ 5.0000,  6.0000],\n",
              "        [ 7.0000,  8.0000],\n",
              "        [ 9.0000, 10.0000]])"
            ]
          },
          "metadata": {},
          "execution_count": 18
        }
      ]
    },
    {
      "cell_type": "code",
      "source": [
        "a_2[0] = 0\n",
        "a_2"
      ],
      "metadata": {
        "colab": {
          "base_uri": "https://localhost:8080/"
        },
        "id": "nEt70-2H2GZl",
        "outputId": "eddebe0b-d7c6-4305-a076-bd9a94e1ed12"
      },
      "execution_count": null,
      "outputs": [
        {
          "output_type": "execute_result",
          "data": {
            "text/plain": [
              "tensor([[ 0.,  0.],\n",
              "        [ 3.,  4.],\n",
              "        [ 5.,  6.],\n",
              "        [ 7.,  8.],\n",
              "        [ 9., 10.]])"
            ]
          },
          "metadata": {},
          "execution_count": 19
        }
      ]
    },
    {
      "cell_type": "markdown",
      "source": [
        "#### 1"
      ],
      "metadata": {
        "id": "4i3p_kMz2BBT"
      }
    },
    {
      "cell_type": "code",
      "source": [
        "images = torch.IntTensor(100, 200, 200, 3).zero_()\n",
        "\n",
        "plt.imshow(images[0])"
      ],
      "metadata": {
        "colab": {
          "base_uri": "https://localhost:8080/",
          "height": 286
        },
        "id": "bdiYKQLa2Jkr",
        "outputId": "07048d49-b78d-4053-9a8b-a2b823322af3"
      },
      "execution_count": null,
      "outputs": [
        {
          "output_type": "execute_result",
          "data": {
            "text/plain": [
              "<matplotlib.image.AxesImage at 0x7f2fa05e4730>"
            ]
          },
          "metadata": {},
          "execution_count": 20
        },
        {
          "output_type": "display_data",
          "data": {
            "text/plain": [
              "<Figure size 432x288 with 1 Axes>"
            ],
            "image/png": "[encoded data removed]"
          },
          "metadata": {
            "needs_background": "light"
          }
        }
      ]
    },
    {
      "cell_type": "markdown",
      "source": [
        "#### 2"
      ],
      "metadata": {
        "id": "VGf-hs4g2CbK"
      }
    },
    {
      "cell_type": "code",
      "source": [
        "for i in range(images.shape[0]):\n",
        "  images[i][i * 2] = images[i][i * 2 + 1] = 255\n",
        "plt.imshow(images[3])"
      ],
      "metadata": {
        "colab": {
          "base_uri": "https://localhost:8080/",
          "height": 286
        },
        "id": "vyrKbS-X2Lgm",
        "outputId": "c36ffc40-fbcb-4c8b-e6fc-78ea34dd5fe3"
      },
      "execution_count": null,
      "outputs": [
        {
          "output_type": "execute_result",
          "data": {
            "text/plain": [
              "<matplotlib.image.AxesImage at 0x7f2fa01304f0>"
            ]
          },
          "metadata": {},
          "execution_count": 21
        },
        {
          "output_type": "display_data",
          "data": {
            "text/plain": [
              "<Figure size 432x288 with 1 Axes>"
            ],
            "image/png": "[encoded data removed]"
          },
          "metadata": {
            "needs_background": "light"
          }
        }
      ]
    },
    {
      "cell_type": "code",
      "source": [
        "plt.imshow(images[50])"
      ],
      "metadata": {
        "colab": {
          "base_uri": "https://localhost:8080/",
          "height": 286
        },
        "id": "WE9ijwfT2OZb",
        "outputId": "da7fb612-427e-430b-d1e2-d9ba18be5f92"
      },
      "execution_count": null,
      "outputs": [
        {
          "output_type": "execute_result",
          "data": {
            "text/plain": [
              "<matplotlib.image.AxesImage at 0x7f2fa010d520>"
            ]
          },
          "metadata": {},
          "execution_count": 22
        },
        {
          "output_type": "display_data",
          "data": {
            "text/plain": [
              "<Figure size 432x288 with 1 Axes>"
            ],
            "image/png": "[encoded data removed]"
          },
          "metadata": {
            "needs_background": "light"
          }
        }
      ]
    },
    {
      "cell_type": "markdown",
      "source": [
        "#### 3"
      ],
      "metadata": {
        "id": "vUJ6GcbO2DAA"
      }
    },
    {
      "cell_type": "code",
      "metadata": {
        "id": "pZVGHEQQYKBU",
        "colab": {
          "base_uri": "https://localhost:8080/"
        },
        "outputId": "2c1f5614-2f9b-45bf-a5df-6182eb904525"
      },
      "source": [
        "value = (images.float()[1].mean() * 70).item()\n",
        "value"
      ],
      "execution_count": null,
      "outputs": [
        {
          "output_type": "execute_result",
          "data": {
            "text/plain": [
              "178.5"
            ]
          },
          "metadata": {},
          "execution_count": 23
        }
      ]
    },
    {
      "cell_type": "code",
      "source": [
        "tmp_images = images.clone()\n",
        "tmp_images[0] = value\n",
        "\n",
        "gray_image = tmp_images[0]\n",
        "plt.imshow(gray_image)"
      ],
      "metadata": {
        "colab": {
          "base_uri": "https://localhost:8080/",
          "height": 286
        },
        "id": "zfAF0Pcu2SOS",
        "outputId": "74d867db-3618-4af9-98e4-a859f000d0ac"
      },
      "execution_count": null,
      "outputs": [
        {
          "output_type": "execute_result",
          "data": {
            "text/plain": [
              "<matplotlib.image.AxesImage at 0x7f2fa00d0130>"
            ]
          },
          "metadata": {},
          "execution_count": 24
        },
        {
          "output_type": "display_data",
          "data": {
            "text/plain": [
              "<Figure size 432x288 with 1 Axes>"
            ],
            "image/png": "[encoded data removed]"
          },
          "metadata": {
            "needs_background": "light"
          }
        }
      ]
    },
    {
      "cell_type": "markdown",
      "metadata": {
        "id": "oQnhq5ZdYKCu"
      },
      "source": [
        "### Задача 4"
      ]
    },
    {
      "cell_type": "markdown",
      "metadata": {
        "id": "UB95BhgTYKCu"
      },
      "source": [
        "- В Colab нажмите в меню сверху: `Runtime` -> `Change Runtime Type` -> `GPU`, где изначально стоит `None` (`Среда выполнение` - `Сменить среду выполнения`)\n",
        "- Объявите тензор `a` размера (2, 3, 4) и тензор `b` размера (1, 8, 3) на GPU, иницилизируйте их случайно равномерно (`.uniform_()`)\n",
        "- Затем измените форму тензора `b`, чтобы она совпадала с формой тензора `a`, получите тензор `c`  \n",
        "- Переместите `c` на CPU, переместите `a` на CPU  \n",
        "- Оберните их в `Variable()`\n",
        "- Объявите тензор `L = torch.mean((c - a) `**` 2)` и посчитайте градиент `L` по `c` ( то есть $\\frac{\\partial{L}}{\\partial{c}})$\n",
        "- Выведите градиент `L` по `c`"
      ]
    },
    {
      "cell_type": "code",
      "source": [
        "device = 'cuda' if torch.cuda.is_available() else 'cpu'\n",
        "a_4 = torch.FloatTensor(2, 3, 4).uniform_().to(device)\n",
        "b_4 = torch.FloatTensor(1, 8, 3).uniform_().to(device)\n",
        "a_4"
      ],
      "metadata": {
        "colab": {
          "base_uri": "https://localhost:8080/"
        },
        "id": "soYcUM902WaW",
        "outputId": "d9250b0c-624f-4a30-dc43-ee0553cc20d1"
      },
      "execution_count": null,
      "outputs": [
        {
          "output_type": "execute_result",
          "data": {
            "text/plain": [
              "tensor([[[0.2656, 0.1078, 0.5687, 0.2508],\n",
              "         [0.4403, 0.7105, 0.4202, 0.3027],\n",
              "         [0.7375, 0.0900, 0.5516, 0.1458]],\n",
              "\n",
              "        [[0.9279, 0.7864, 0.6760, 0.9023],\n",
              "         [0.3705, 0.2989, 0.6831, 0.9797],\n",
              "         [0.9181, 0.2867, 0.1487, 0.4057]]], device='cuda:0')"
            ]
          },
          "metadata": {},
          "execution_count": 29
        }
      ]
    },
    {
      "cell_type": "code",
      "source": [
        "c_4 = b_4.view(a_4.shape)\n",
        "c_4.shape"
      ],
      "metadata": {
        "colab": {
          "base_uri": "https://localhost:8080/"
        },
        "id": "5XFPKi7l2ZZF",
        "outputId": "7f72cf49-7f76-4efc-ec31-f4599be5daa0"
      },
      "execution_count": null,
      "outputs": [
        {
          "output_type": "execute_result",
          "data": {
            "text/plain": [
              "torch.Size([2, 3, 4])"
            ]
          },
          "metadata": {},
          "execution_count": 28
        }
      ]
    },
    {
      "cell_type": "code",
      "source": [
        "a_4 = a_4.to('cpu')\n",
        "c_4 = c_4.to('cpu')\n",
        "\n",
        "\n",
        "a_4 = Variable(a_4, requires_grad=True)\n",
        "c_4 = Variable(c_4, requires_grad=True)\n",
        "\n",
        "L = torch.mean((c_4 - a_4) ** 2)\n",
        "L.backward()\n",
        "\n",
        "c_4.grad"
      ],
      "metadata": {
        "id": "PBQBKDN52a4K",
        "outputId": "6c41bb4b-c2df-443a-f9a1-e82d382e1cd3",
        "colab": {
          "base_uri": "https://localhost:8080/"
        }
      },
      "execution_count": null,
      "outputs": [
        {
          "output_type": "execute_result",
          "data": {
            "text/plain": [
              "tensor([[[ 0.0161,  0.0730,  0.0015, -0.0051],\n",
              "         [ 0.0395, -0.0075,  0.0410,  0.0386],\n",
              "         [ 0.0174,  0.0092,  0.0293,  0.0043]],\n",
              "\n",
              "        [[ 0.0038, -0.0036, -0.0033, -0.0749],\n",
              "         [ 0.0381,  0.0555,  0.0045, -0.0452],\n",
              "         [-0.0545,  0.0160,  0.0271,  0.0081]]])"
            ]
          },
          "metadata": {},
          "execution_count": 30
        }
      ]
    }
  ]
}