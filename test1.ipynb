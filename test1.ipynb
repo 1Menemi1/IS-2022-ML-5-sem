{
  "nbformat": 4,
  "nbformat_minor": 0,
  "metadata": {
    "kernelspec": {
      "display_name": "Python 3",
      "language": "python",
      "name": "python3"
    },
    "language_info": {
      "codemirror_mode": {
        "name": "ipython",
        "version": 3
      },
      "file_extension": ".py",
      "mimetype": "text/x-python",
      "name": "python",
      "nbconvert_exporter": "python",
      "pygments_lexer": "ipython3",
      "version": "3.6.5"
    },
    "toc": {
      "base_numbering": 1,
      "nav_menu": {},
      "number_sections": true,
      "sideBar": true,
      "skip_h1_title": false,
      "title_cell": "Table of Contents",
      "title_sidebar": "Contents",
      "toc_cell": false,
      "toc_position": {},
      "toc_section_display": true,
      "toc_window_display": false
    },
    "colab": {
      "provenance": [],
      "collapsed_sections": [
        "pJyxgxErLqbg",
        "y8BB5t5DLqb8",
        "RQS6gBO1Lqc5"
      ]
    }
  },
  "cells": [
    {
      "cell_type": "markdown",
      "metadata": {
        "id": "LYKqDli0Lqas"
      },
      "source": [
        "# Рубежная контрольная работа\n",
        "\n",
        "*Эту работу выполнять не обязательно. Баллы, набранные за эту контрольную работу просуммируются с баллами, которые будут набраны за контрольную работу 2 и выставлены как оценка за экзамен \"автоматом\". Если вы не выполните эту работу, переписать её будет невозможно, просто приходите на экзамен и добирайте баллы там.*"
      ]
    },
    {
      "cell_type": "markdown",
      "metadata": {
        "id": "Cdt8kOfu4K3x"
      },
      "source": [
        "Сделайте копию ноутбука\n",
        "\n",
        "Присвойте переменной `v` свой табельный номер ИСУ, это нужно для определения вашего варианта. Запустите код в следующей ячейке."
      ]
    },
    {
      "cell_type": "code",
      "metadata": {
        "id": "38Ryn8pjvYqb",
        "colab": {
          "base_uri": "https://localhost:8080/"
        },
        "outputId": "bd035670-4319-4df1-bc83-5d148052380a"
      },
      "source": [
        "from datetime import datetime\n",
        "current_datetime = datetime.now()\n",
        "print(current_datetime)\n",
        "v = 311560 # номер ИСУ Титова Даниила Ярославович M33041"
      ],
      "execution_count": null,
      "outputs": [
        {
          "output_type": "stream",
          "name": "stdout",
          "text": [
            "2022-10-24 10:08:07.779542\n"
          ]
        }
      ]
    },
    {
      "cell_type": "markdown",
      "metadata": {
        "id": "Qr0CAgObPOv7"
      },
      "source": [
        "## Описание метрического алгоритма"
      ]
    },
    {
      "cell_type": "markdown",
      "metadata": {
        "id": "OFP_i1F1Lqay"
      },
      "source": [
        "Пусть задана обучающая выборка пар \"объект-ответ\" $X^m = \\{(x_1,y_1),\\dots,(x_m,y_m)\\}.$\n",
        "\n",
        "Пусть на множестве объектов задана функция расстояния $\\rho(x,x')$. Чем больше значение этой функции, тем менее схожими являются два объекта $x, x'$. \n",
        "В простейшем случае используется евклидова метрика: $\\rho(x,x') = \\sqrt {\\sum _{i=1}^{n}(x_{i}-x'_{i})^{2}}$,\n",
        "\n",
        "Для произвольного объекта $u$ расположим объекты обучающей выборки $x_i$ в порядке возрастания расстояний до $u$:\n",
        "\n",
        "$$\\rho(u,x_{1; u}) \\leq  \\rho(u,x_{2; u}) \\leq \\cdots \\leq \\rho(u,x_{m; u}),$$\n",
        "где через $x_{i; u}$ обозначается тот объект обучающей выборки, который является $i$-м соседом объекта $u$. Аналогичное обозначение введём и для ответа на $i$-м соседе: $y_{i; u}$. Таким образом, произвольный объект $u$ порождает свою перенумерацию выборки. В наиболее общем виде алгоритм ближайших соседей есть:\n",
        "$$a(u) = \\mathrm{arg}\\max_{y\\in Y} \\sum_{i=1}^m \\bigl[ y_{i; u}=y \\bigr] w(i,u),$$\n",
        "где $w(i,u)$ - заданная весовая функция, которая оценивает степень важности $i$-го соседа для классификации объекта $u$. Естественно полагать, что эта функция не отрицательна и не возрастает по $i$ (поскольку чем дальше объект, тем меньший вклад он должен вносить в пользу своего класса).\n",
        "\n",
        "По-разному задавая весовую функцию, можно получать различные варианты метода ближайших соседей.\n",
        "\n",
        "$w(i,u) = [i=1]$ - простейший метод ближайшего соседа;\n",
        "\n",
        "$w(i,u) = [i\\leq k]$ - метод $k$ ближайших соседей;\n",
        "\n",
        "$w(i,u) = [i\\leq k] q^i$ - метод $k$ экспоненциально взвешенных ближайших соседей, где предполагается константа $q < 1$\n",
        "\n",
        "\n"
      ]
    },
    {
      "cell_type": "markdown",
      "metadata": {
        "id": "9O9wv47JPzIf"
      },
      "source": [
        "**Использование ядер сглаживания**\n",
        "\n",
        "Для избежания неоднозначности ответа при классификации в качестве весовой функции $w(i, u)$ используют функцию ядра $K(r)$\n",
        "\n",
        "Примеры ядер:\n",
        "\n",
        "Triangular: ${\\displaystyle K(r)=(1-|r|)}$,\n",
        "\n",
        "Parabolic: ${\\displaystyle K(r)={\\frac {3}{4}}(1-r^{2})}$,\n",
        "\n",
        "Tricube: ${\\displaystyle K(r)={\\frac {70}{81}}(1-{\\left|r\\right|}^{3})^{3}}$.\n",
        "\n",
        "**Метод парзеновского окна**\n",
        "\n",
        "Алгоритм $k$ ближайших соседей можно обобщить с помощью функции ядра. Рассмотрим два способа, которыми это можно сделать.\n",
        "\n",
        "Метод парзеновского окна фиксированной ширины  $h$:\n",
        "$$w(i,u) = K\\biggl(\\frac{\\rho(u,x_{i; u})}{h}\\biggr)$$\n",
        "\n",
        "Метод парзеновского окна переменной ширины:\n",
        "$$w(i,u) = K\\biggl(\\frac{\\rho(u,x_{i; u})}{\\rho(u,x_{k+1; u})}\\biggr)$$\n",
        "\n",
        "Таким образом классификаторы, полученные при использовании этих методов, можно записать в следующем виде\n",
        "\n",
        "Фиксированной ширины: $$a_h = a(u, X^m, \\boldsymbol{h}, K) = \\mathrm{arg}\\max_{y\\in Y} \\sum_{i=1}^m \\bigl[ y_{i; u}=y \\bigr] K\\biggl(\\frac{\\rho(u,x_{i; u})}{h}\\biggr)$$\n",
        "\n",
        "Переменной ширины (фиксированное число соседей): \n",
        "$$a_k = a(u, X^m, \\boldsymbol{k}, K) = \\mathrm{arg}\\max_{y\\in Y} \\sum_{i=1}^m \\bigl[ y_{i; u}=y \\bigr] K\\biggl(\\frac{\\rho(u,x_{i; u})}{\\rho(u,x_{k+1; u})}\\biggr)$$\n"
      ]
    },
    {
      "cell_type": "markdown",
      "metadata": {
        "id": "QChjKJIRPWty"
      },
      "source": [
        "## Задание 1 (7 баллов)\n",
        "\n",
        "В задании требуется написать свою реализацию метрического алгоритма. \n",
        "\n",
        "В качестве расстояния между объектами в этом задании используйте евклидово расстояние. \n",
        "\n",
        "В качестве функции ядра используйте Parabolic."
      ]
    },
    {
      "cell_type": "markdown",
      "metadata": {
        "id": "F57T22yav-gp"
      },
      "source": [
        "Для выбора варианта, запустите код в следующей ячейке\n",
        "\n"
      ]
    },
    {
      "cell_type": "code",
      "metadata": {
        "id": "zFcuNXzcwMbH",
        "colab": {
          "base_uri": "https://localhost:8080/"
        },
        "outputId": "49e9ebf3-bc76-4832-e337-0fe1a1c5616a"
      },
      "source": [
        "if (int(str(v)[3]) % 2) == 0:\n",
        "  print ('1.1 В алгоритме число соседей должно быть фиксированным. Настроить гиперпараметр k, для оценки качества использовать F1-меру')\n",
        "else:\n",
        "  print ('1.1 В алгоритме число соседей не должно быть фиксированным. Настроить гиперпараметр h (ширина окна), для оценки качества использовать использовать accuracy')\n",
        "\n",
        "if (int(str(v)[3]) % 2) == 0:\n",
        "  print ('1.2 Построить график зависимости метрики качества на обучающей выборке от k')\n",
        "else: \n",
        "  print ('1.2 Построить график зависимости метрики качества на контрольной выборке от h')"
      ],
      "execution_count": null,
      "outputs": [
        {
          "output_type": "stream",
          "name": "stdout",
          "text": [
            "1.1 В алгоритме число соседей не должно быть фиксированным. Настроить гиперпараметр h (ширина окна), для оценки качества использовать использовать accuracy\n",
            "1.2 Построить график зависимости метрики качества на контрольной выборке от h\n"
          ]
        }
      ]
    },
    {
      "cell_type": "markdown",
      "metadata": {
        "id": "ms_1FH-3S_7E"
      },
      "source": [
        "Протестирйуте эту реализацию на наборе данных breast_cancer:\n",
        "\n",
        "https://scikit-learn.org/stable/modules/generated/sklearn.datasets.load_breast_cancer.html"
      ]
    },
    {
      "cell_type": "code",
      "metadata": {
        "id": "gHGUZu8rLqa8"
      },
      "source": [
        "from sklearn.datasets import load_breast_cancer\n",
        "data = load_breast_cancer()"
      ],
      "execution_count": null,
      "outputs": []
    },
    {
      "cell_type": "markdown",
      "source": [
        "Может понадобиться предобработка данных"
      ],
      "metadata": {
        "id": "OCpbLbb83bbY"
      }
    },
    {
      "cell_type": "markdown",
      "metadata": {
        "id": "XL9H9vXATHcc"
      },
      "source": [
        "Штрафы:\n",
        "* отсутствие реализации алгоритма (4 балла)\n",
        "* ошибки в реализации алгоритма (2 балла)\n",
        "* отсутствие настройки гиперпараметра (2 балла)\n",
        "* ошибки в настройке гиперпараметра (1 балл)\n",
        "* отсутствие графика (1 балл)"
      ]
    },
    {
      "cell_type": "code",
      "source": [
        "from collections import Counter\n",
        "from scipy.spatial.distance import euclidean\n",
        "from sklearn.datasets import load_breast_cancer\n",
        "from sklearn.model_selection import train_test_split"
      ],
      "metadata": {
        "id": "tnccim-ObW6A"
      },
      "execution_count": null,
      "outputs": []
    },
    {
      "cell_type": "code",
      "source": [
        "class KNN:\n",
        "    def __init__(self, h):\n",
        "        self.h = h\n",
        "\n",
        "    def fit(self, x, y):\n",
        "        self.x_tr = x\n",
        "        self.y_tr = y\n",
        "\n",
        "    def parabolic(self, r):\n",
        "        return 0.75 * (1 - r ** 2)\n",
        "\n",
        "    def predict(self, x_test):\n",
        "        ans_out = []\n",
        "        for i in range(len(x_test)):\n",
        "            dist_arr = []\n",
        "            votes = []\n",
        "            for j in range(len(x_tr)):\n",
        "                dist = self.parabolic(euclidean(x_tr[j], x_test[i]))\n",
        "                dist_arr.append([dist, j])\n",
        "            for dist, j in dist_arr:\n",
        "                if dist < self.h:\n",
        "                    votes.append(y_tr[j])\n",
        "            ans = Counter(votes).most_common(1)[0][0]\n",
        "            ans_out.append(ans)\n",
        "        return ans_out\n",
        "\n",
        "    def score(self, x_test, y_test):\n",
        "        predictions = self.predict(x_test)\n",
        "        return (predictions == y_test).sum() / len(y_test)"
      ],
      "metadata": {
        "id": "i_QXRiQMTf--"
      },
      "execution_count": null,
      "outputs": []
    },
    {
      "cell_type": "code",
      "source": [
        "data = load_breast_cancer()\n",
        "\n",
        "x_tr, x_test, y_tr, y_test = train_test_split(data.data, data.target)\n",
        "knn = KNN(10)\n",
        "knn.fit(x_tr, y_tr)\n",
        "y_pred = knn.predict(x_test)\n",
        "\n",
        "knn.score(x_test, y_test)"
      ],
      "metadata": {
        "colab": {
          "base_uri": "https://localhost:8080/"
        },
        "id": "GhPB7-Y_YgLv",
        "outputId": "665eda0f-9165-4a50-9d97-017bb6e85334"
      },
      "execution_count": null,
      "outputs": [
        {
          "output_type": "execute_result",
          "data": {
            "text/plain": [
              "0.6293706293706294"
            ]
          },
          "metadata": {},
          "execution_count": 44
        }
      ]
    },
    {
      "cell_type": "markdown",
      "metadata": {
        "id": "Mz4rsFhALqbJ"
      },
      "source": [
        "# Задание 2 (4 балла)"
      ]
    },
    {
      "cell_type": "markdown",
      "metadata": {
        "id": "EHdzuZj-3dsF"
      },
      "source": [
        "Требуется реализовать метрический алгоритм для предсказания действительного числа (то есть как в задаче регрессии, а не как в задаче классификации). \n",
        "\n",
        "В задании 2 **не** используйте ядра и метод парзеновского окна."
      ]
    },
    {
      "cell_type": "markdown",
      "metadata": {
        "id": "gOM9Kj8pLqbS"
      },
      "source": [
        "Во этом задании в качестве исходных данных используется словарь кинокритиков и выставленных ими оценок"
      ]
    },
    {
      "cell_type": "code",
      "metadata": {
        "id": "ENkh6Gr98Pit"
      },
      "source": [
        "critics={'Lisa Rose': {'Lady in the Water': 2.5, 'Snakes on a Plane': 3.5,\n",
        " 'Just My Luck': 3.0, 'Superman Returns': 3.5, 'You, Me and Dupree': 2.5, \n",
        " 'The Night Listener': 3.0},\n",
        "'Gene Seymour': {'Lady in the Water': 3.0, 'Snakes on a Plane': 3.5, \n",
        " 'Just My Luck': 1.5, 'Superman Returns': 5.0, 'The Night Listener': 3.0, \n",
        " 'You, Me and Dupree': 3.5}, \n",
        "'Michael Phillips': {'Lady in the Water': 2.5, 'Snakes on a Plane': 3.0,\n",
        " 'Superman Returns': 3.5, 'The Night Listener': 4.0},\n",
        "'Claudia Puig': {'Snakes on a Plane': 3.5, 'Just My Luck': 3.0,\n",
        " 'The Night Listener': 4.5, 'Superman Returns': 4.0, \n",
        " 'You, Me and Dupree': 2.5},\n",
        "'Mick LaSalle': {'Lady in the Water': 3.0, 'Snakes on a Plane': 4.0, \n",
        " 'Just My Luck': 2.0, 'Superman Returns': 3.0, 'The Night Listener': 3.0,\n",
        " 'You, Me and Dupree': 2.0}, \n",
        "'Jack Matthews': {'Lady in the Water': 3.0, 'Snakes on a Plane': 4.0,\n",
        " 'The Night Listener': 3.0, 'Superman Returns': 5.0, 'You, Me and Dupree': 3.5},\n",
        "'Toby': {'Snakes on a Plane':4.5,'You, Me and Dupree':1.0,'Superman Returns':4.0}}"
      ],
      "execution_count": null,
      "outputs": []
    },
    {
      "cell_type": "markdown",
      "metadata": {
        "id": "MVfEyvFj019l"
      },
      "source": [
        "По этому словарю нужно сделать Dataframe в pandas. Строки это критики, столбцы - названия фильмов. На пересечении поставленные оценки. При отсуствии оценки у критика за фильм в датафрейме нужно поставить 0."
      ]
    },
    {
      "cell_type": "markdown",
      "metadata": {
        "id": "xakj7Hul1jMp"
      },
      "source": [
        "Для выбора варианта, запустите код в следующей ячейке"
      ]
    },
    {
      "cell_type": "code",
      "metadata": {
        "id": "fvyYCARr1gLt",
        "colab": {
          "base_uri": "https://localhost:8080/"
        },
        "outputId": "00aa3807-1150-467b-d5cd-4aaed2baff2a"
      },
      "source": [
        "if (int(str(v)[4]) % 2) == 0:\n",
        "  print ('2.1 Сделайте предсказание оценок для критика Michael Phillips по фильмам, которые он ещё не видел')\n",
        "else:\n",
        "  print ('2.1 Сделайте предсказание оценок для фильма Just My Luck по критикам, которые его ещё не видели')\n",
        "print ('2.2 Объясните как оценить качество полученного предказания')"
      ],
      "execution_count": null,
      "outputs": [
        {
          "output_type": "stream",
          "name": "stdout",
          "text": [
            "2.1 Сделайте предсказание оценок для критика Michael Phillips по фильмам, которые он ещё не видел\n",
            "2.2 Объясните как оценить качество полученного предказания\n"
          ]
        }
      ]
    },
    {
      "cell_type": "markdown",
      "metadata": {
        "id": "1lBTspUZFqWL"
      },
      "source": [
        "Штрафы:\n",
        "* отсутствие реализации алгоритма (2 балла)\n",
        "* ошибки в реализации алгоритма (1 балл)\n",
        "* отсутствие тестирования алгоритма (1 балл)\n",
        "* отсутствие объяснения оценки качества алгоритма (1 балл)"
      ]
    },
    {
      "cell_type": "markdown",
      "metadata": {
        "id": "v_oFki5H3_vy"
      },
      "source": [
        "После завершения контрольной работы, дайте ссылку на ноутбук в отдельном followup в своей теме на Piazza. Дайте разрешение на его просмотр.\n",
        "\n",
        "Не забудьте запустить код в последней ячейке для контроля времени выполнения."
      ]
    },
    {
      "cell_type": "code",
      "metadata": {
        "id": "HncJvMmo35Kv",
        "colab": {
          "base_uri": "https://localhost:8080/"
        },
        "outputId": "99df6c0f-98d7-4977-d8c5-51b937b954be"
      },
      "source": [
        "current_datetime = datetime.now()\n",
        "print(current_datetime)"
      ],
      "execution_count": null,
      "outputs": [
        {
          "output_type": "stream",
          "name": "stdout",
          "text": [
            "2022-10-24 10:08:11.926704\n"
          ]
        }
      ]
    }
  ]
}