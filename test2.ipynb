{
  "nbformat": 4,
  "nbformat_minor": 0,
  "metadata": {
    "kernelspec": {
      "display_name": "Python 3",
      "language": "python",
      "name": "python3"
    },
    "language_info": {
      "codemirror_mode": {
        "name": "ipython",
        "version": 3
      },
      "file_extension": ".py",
      "mimetype": "text/x-python",
      "name": "python",
      "nbconvert_exporter": "python",
      "pygments_lexer": "ipython3",
      "version": "3.6.5"
    },
    "toc": {
      "base_numbering": 1,
      "nav_menu": {},
      "number_sections": true,
      "sideBar": true,
      "skip_h1_title": false,
      "title_cell": "Table of Contents",
      "title_sidebar": "Contents",
      "toc_cell": false,
      "toc_position": {},
      "toc_section_display": true,
      "toc_window_display": false
    },
    "colab": {
      "provenance": [],
      "collapsed_sections": [
        "pJyxgxErLqbg",
        "y8BB5t5DLqb8",
        "RQS6gBO1Lqc5"
      ],
      "toc_visible": true
    }
  },
  "cells": [
    {
      "cell_type": "markdown",
      "metadata": {
        "id": "LYKqDli0Lqas"
      },
      "source": [
        "# Рубежная контрольная работа\n",
        "\n",
        "Эту работу выполнять не обязательно. Баллы набранные за работу просуммируются с баллами, которые были набраны за контрольную работу 1 и выставлены как оценка за промежуточную аттестацию \"автоматом\". "
      ]
    },
    {
      "cell_type": "markdown",
      "metadata": {
        "id": "Cdt8kOfu4K3x"
      },
      "source": [
        "Сделайте копию ноутбука\n",
        "\n",
        "Присвойте переменной `v` значение свой табельный номер ИСУ, это нужно для определения вашего варианта. Запустите код в следующей ячейке."
      ]
    },
    {
      "cell_type": "code",
      "metadata": {
        "id": "38Ryn8pjvYqb",
        "colab": {
          "base_uri": "https://localhost:8080/"
        },
        "outputId": "2f640f8b-5cb1-4bf5-9baa-a80f432383e2"
      },
      "source": [
        "from datetime import datetime\n",
        "current_datetime = datetime.now()\n",
        "print(current_datetime)\n",
        "v = 311560 # по умолчанию вписан мой номер"
      ],
      "execution_count": null,
      "outputs": [
        {
          "output_type": "stream",
          "name": "stdout",
          "text": [
            "2022-12-12 08:52:10.518170\n"
          ]
        }
      ]
    },
    {
      "cell_type": "markdown",
      "metadata": {
        "id": "W85i4fC7srcf"
      },
      "source": [
        "# Общее задание"
      ]
    },
    {
      "cell_type": "markdown",
      "metadata": {
        "id": "tIXprGNhsvTG"
      },
      "source": [
        "Нужно решить задачу бинарной классификации, предварительно построив признаковое описание объектов на основе нескольких таблиц. \n",
        "\n",
        "Целевая переменная - пол клиента.\n",
        "\n",
        "В качестве модели нужно использовать нейронную сеть, которую нужно строить с помощью `keras` или `torch` на выбор студента."
      ]
    },
    {
      "cell_type": "markdown",
      "metadata": {
        "id": "G5nnK3tftPvc"
      },
      "source": [
        "# Данные"
      ]
    },
    {
      "cell_type": "markdown",
      "metadata": {
        "id": "y8f3_l3KtSUh"
      },
      "source": [
        "Для всех последующих заданий будем использовать обезличенные транзакционные банковские данные. Для этого считайте в переменные **transactions, tr_mcc_codes и gender_train** из одноимённых таблиц из папки data. Для таблицы transactions используйте только первые n=1000000 строк."
      ]
    },
    {
      "cell_type": "markdown",
      "metadata": {
        "id": "6gIKs_I-tr27"
      },
      "source": [
        "Эти данные уже использовались в работе 2. Описание данных тут: https://drive.google.com/file/d/13sn8orjkoGfO1SVZYByXNmZQYFRfmOdp/view?usp=sharing\n",
        "\n",
        "Скачать данные отсюда: https://drive.google.com/drive/folders/1YAMe7MiTxA-RSSd8Ex2p-L0Dspe6Gs4L?usp=sharing"
      ]
    },
    {
      "cell_type": "markdown",
      "metadata": {
        "id": "OFP_i1F1Lqay"
      },
      "source": [
        "## Задание 1\n",
        "\n",
        "В задании требуется на основе нескольких таблиц с данными сделать признаковое описание объектов. \n",
        "\n",
        "Объектами являются клиенты. Клиенты идентифицируются с помощью `customer_id`, которые есть в таблицах **transactions** и **gender_train**. В качестве призаков нужно использовать даннее по категориям транзаций: ```mcc_code``` — mcc-код транзакции есть в таблицах **transactions** и **tr_mcc_codes**\n"
      ]
    },
    {
      "cell_type": "markdown",
      "metadata": {
        "id": "F57T22yav-gp"
      },
      "source": [
        "Для выбора варианта, запустите код в следующей ячейке\n",
        "\n"
      ]
    },
    {
      "cell_type": "code",
      "metadata": {
        "id": "zFcuNXzcwMbH",
        "colab": {
          "base_uri": "https://localhost:8080/"
        },
        "outputId": "1f00b440-db57-4df4-d5aa-f1777e6f251f"
      },
      "source": [
        "print ('Список категорий')\n",
        "feature_list = ['Одежда (также нужно искать \"одежды\")', 'Ценные бумаги', 'Магазины косметики и Салоны красоты', 'Образовательные услуги (а также школы, университеты)',\n",
        "                'Прокат автомобилей', 'Автозапчасти, Автошины и Станции техобслуживания (а также СТО)', 'Видеоигры (искать надо по \"видеоигр\")',\n",
        "                'Отели', 'Программирование', 'Ремонт', 'Предсказатели будущего', 'Ювелирные изделия']\n",
        "if (int(str(v)[4]) % 2) == 0:\n",
        "  print (feature_list[::2])\n",
        "else:\n",
        "  print (feature_list[::-2])\n",
        "\n",
        "\n",
        "if (int(str(v)[5]) % 2) == 0:\n",
        "  print ('В качестве значений признаков используйте количество транзакций с тратами и количество транзакций с поступлениями')\n",
        "else: \n",
        "  print ('В качестве значений признаков используйте сумму по транзакциям с тратами и сумму по транзакциям с поступлениями')"
      ],
      "execution_count": null,
      "outputs": [
        {
          "output_type": "stream",
          "name": "stdout",
          "text": [
            "Список категорий\n",
            "['Одежда (также нужно искать \"одежды\")', 'Магазины косметики и Салоны красоты', 'Прокат автомобилей', 'Видеоигры (искать надо по \"видеоигр\")', 'Программирование', 'Предсказатели будущего']\n",
            "В качестве значений признаков используйте количество транзакций с тратами и количество транзакций с поступлениями\n"
          ]
        }
      ]
    },
    {
      "cell_type": "markdown",
      "metadata": {
        "id": "3V5SzWwN7k8F"
      },
      "source": [
        "Каждая категория может быть связана с одним или несколькими mcc-кодами. Например, вот несколько mcc-кодов по категории \"Одежда\": \n",
        "* 5621; Готовая женская одежда\n",
        "* 5641; Детская одежда\n",
        "* 5651; Одежда для всей семьи"
      ]
    },
    {
      "cell_type": "markdown",
      "metadata": {
        "id": "xgFGtCDIvU4m"
      },
      "source": [
        "Таким образом получится 12 признаков, то есть шесть категорий, каждая из которых даст два значения: траты и поступления. Например, категория \"Одежда\" даёт признаки \"Одежда траты\" и \"Одежда поступления\"."
      ]
    },
    {
      "cell_type": "markdown",
      "metadata": {
        "id": "xGC6oWTyv9S4"
      },
      "source": [
        "Сделайте нормализацию значений признаков так, чтобы все означения менялись от 0 до 1. "
      ]
    },
    {
      "cell_type": "code",
      "source": [
        "from torch.autograd import Variable\n",
        "from tqdm.auto import tqdm\n",
        "from sklearn.preprocessing import StandardScaler\n",
        "from sklearn.model_selection import train_test_split\n",
        "import pandas as pd\n",
        "import numpy as np\n",
        "import matplotlib.pyplot as plt\n",
        "import torch.nn as nn\n",
        "import torch.nn.functional as F"
      ],
      "metadata": {
        "id": "Ch2uMBdTi_Rj"
      },
      "execution_count": null,
      "outputs": []
    },
    {
      "cell_type": "code",
      "source": [
        "from google.colab import drive\n",
        "drive.mount('/content/drive')"
      ],
      "metadata": {
        "id": "VHE3inbtwVSf",
        "colab": {
          "base_uri": "https://localhost:8080/"
        },
        "outputId": "234ceb54-82ad-4378-99a5-fc6b9b6ee29a"
      },
      "execution_count": null,
      "outputs": [
        {
          "output_type": "stream",
          "name": "stdout",
          "text": [
            "Mounted at /content/drive\n"
          ]
        }
      ]
    },
    {
      "cell_type": "code",
      "source": [
        "transactions = pd.read_csv(\"/content/sample_data/transactions.csv\", nrows=1000000, sep=\",\")\n",
        "gender_train=pd.read_csv(\"/content/sample_data/gender_train.csv\", sep=\",\")\n",
        "tr_mcc_codes=pd.read_csv(\"/content/sample_data/tr_mcc_codes.csv\", sep=\";\")"
      ],
      "metadata": {
        "id": "OHlwpoNsikSf"
      },
      "execution_count": null,
      "outputs": []
    },
    {
      "cell_type": "code",
      "source": [
        "descriptions = [['одежд'], ['косметик', 'красот'], \n",
        "                ['прокат авто', 'автомобил'], ['видеоигр'], ['програм'],\n",
        "                ['будущ']]\n",
        "\n",
        "\n",
        "def str_contains_word_in_list(string):\n",
        "    counter = 0\n",
        "    for category in descriptions:\n",
        "        for w in category:\n",
        "            if w in string:\n",
        "                return True, counter\n",
        "        counter += 1\n",
        "    return False, None\n",
        "\n",
        "\n",
        "checks, category = zip(*tr_mcc_codes.mcc_description.apply(str_contains_word_in_list))\n",
        "tr_mcc_codes['category'] = category\n",
        "tr_category_codes = tr_mcc_codes.loc[list(checks)]\n",
        "tr_category_codes['category'] = tr_category_codes['category'].apply(int)\n",
        "tr_category_codes.category.value_counts()"
      ],
      "metadata": {
        "colab": {
          "base_uri": "https://localhost:8080/"
        },
        "id": "q7tcfIgijfk-",
        "outputId": "9fbc0d42-df82-498a-a20b-887cf73b2717"
      },
      "execution_count": null,
      "outputs": [
        {
          "output_type": "stream",
          "name": "stderr",
          "text": [
            "<ipython-input-56-e067bd4401ba>:19: SettingWithCopyWarning: \n",
            "A value is trying to be set on a copy of a slice from a DataFrame.\n",
            "Try using .loc[row_indexer,col_indexer] = value instead\n",
            "\n",
            "See the caveats in the documentation: https://pandas.pydata.org/pandas-docs/stable/user_guide/indexing.html#returning-a-view-versus-a-copy\n",
            "  tr_category_codes['category'] = tr_category_codes['category'].apply(int)\n"
          ]
        },
        {
          "output_type": "execute_result",
          "data": {
            "text/plain": [
              "0    8\n",
              "2    3\n",
              "4    2\n",
              "1    2\n",
              "3    2\n",
              "5    1\n",
              "Name: category, dtype: int64"
            ]
          },
          "metadata": {},
          "execution_count": 56
        }
      ]
    },
    {
      "cell_type": "code",
      "source": [
        "df = transactions.merge(tr_category_codes, on='mcc_code')\n",
        "df.category.value_counts()"
      ],
      "metadata": {
        "colab": {
          "base_uri": "https://localhost:8080/"
        },
        "id": "uMkp8-7Zm6Qb",
        "outputId": "15502a30-4429-40a8-eba9-68dcb00750b1"
      },
      "execution_count": null,
      "outputs": [
        {
          "output_type": "execute_result",
          "data": {
            "text/plain": [
              "0    11005\n",
              "1     6126\n",
              "3     1141\n",
              "4      415\n",
              "2       65\n",
              "5       46\n",
              "Name: category, dtype: int64"
            ]
          },
          "metadata": {},
          "execution_count": 57
        }
      ]
    },
    {
      "cell_type": "markdown",
      "source": [
        "## Вопросы к заданию 1 (6 баллов)"
      ],
      "metadata": {
        "id": "_etoNdFXwY1y"
      }
    },
    {
      "cell_type": "markdown",
      "source": [
        "1. Для каждой категории выведите соответствующие ей mcc-коды с описаниями.\n",
        "2. Существуют ли пользователи, у которых значения всех признаков не определены?\n",
        "3. Выведите id пользователя, у которого самое большое количество непустых признаков."
      ],
      "metadata": {
        "id": "Mr3MfPI3viIx"
      }
    },
    {
      "cell_type": "markdown",
      "source": [
        "## Ответы:"
      ],
      "metadata": {
        "id": "hv-KGcH7yLk-"
      }
    },
    {
      "cell_type": "markdown",
      "source": [
        "### Создание feature-DF"
      ],
      "metadata": {
        "id": "PXEfP6yRrTzf"
      }
    },
    {
      "cell_type": "code",
      "source": [
        "multyindex = df.groupby(['customer_id', 'category'])['amount'].agg(['count']).unstack().reset_index()\n",
        "\n",
        "new_df = pd.DataFrame({f'count_category_{c_name}' \n",
        "                       : multyindex['count'][c_name].tolist()\n",
        "                       for c_name in multyindex['count'].columns.tolist()})\n",
        "new_df['customer_id'] = multyindex['customer_id'].tolist()\n",
        "\n",
        "in_come = df[df['amount'] > 0].groupby(['customer_id', 'category'])['amount'].agg(['sum']).unstack().reset_index()\n",
        "\n",
        "new_df = new_df.merge(in_come, on='customer_id', how='left')"
      ],
      "metadata": {
        "colab": {
          "base_uri": "https://localhost:8080/"
        },
        "id": "V0ENYqnCrTKY",
        "outputId": "99488277-2306-488f-dd9a-12693a9ba055"
      },
      "execution_count": null,
      "outputs": [
        {
          "output_type": "stream",
          "name": "stderr",
          "text": [
            "/usr/local/lib/python3.8/dist-packages/pandas/core/frame.py:9190: FutureWarning: merging between different levels is deprecated and will be removed in a future version. (1 levels on the left,2 on the right)\n",
            "  return merge(\n",
            "/usr/local/lib/python3.8/dist-packages/pandas/core/generic.py:4150: PerformanceWarning: dropping on a non-lexsorted multi-index without a level parameter may impact performance.\n",
            "  obj = obj._drop_axis(labels, axis, level=level, errors=errors)\n"
          ]
        }
      ]
    },
    {
      "cell_type": "markdown",
      "source": [
        "### Подготовка DF"
      ],
      "metadata": {
        "id": "2vnQkrV1qWEW"
      }
    },
    {
      "cell_type": "code",
      "source": [
        "new_df = new_df.merge(gender_train, on='customer_id')\n",
        "new_df"
      ],
      "metadata": {
        "colab": {
          "base_uri": "https://localhost:8080/",
          "height": 424
        },
        "id": "xDBQPghwqZZh",
        "outputId": "fd67c565-c387-4b44-c234-b21fdde9d516"
      },
      "execution_count": null,
      "outputs": [
        {
          "output_type": "execute_result",
          "data": {
            "text/plain": [
              "     count_category_0  count_category_1  count_category_2  count_category_3  \\\n",
              "0                 8.0               5.0               NaN               NaN   \n",
              "1                 8.0               2.0               NaN               NaN   \n",
              "2                10.0               6.0               NaN               NaN   \n",
              "3                 2.0               NaN               NaN               NaN   \n",
              "4                 4.0               NaN               NaN               NaN   \n",
              "..                ...               ...               ...               ...   \n",
              "739               2.0               NaN               NaN               NaN   \n",
              "740              10.0               3.0               NaN               NaN   \n",
              "741               NaN               2.0               NaN               NaN   \n",
              "742               1.0               NaN               NaN               NaN   \n",
              "743               1.0               1.0               NaN               NaN   \n",
              "\n",
              "     count_category_4  count_category_5  customer_id  (sum, 0)  (sum, 1)  \\\n",
              "0                 NaN               NaN       115617       NaN       NaN   \n",
              "1                 NaN               NaN       189257       NaN       NaN   \n",
              "2                 NaN               NaN       293048       NaN       NaN   \n",
              "3                 1.0               NaN       361458       NaN       NaN   \n",
              "4                 NaN               NaN       496551       NaN       NaN   \n",
              "..                ...               ...          ...       ...       ...   \n",
              "739               2.0               NaN     99302313       NaN       NaN   \n",
              "740               NaN               NaN     99412328       NaN       NaN   \n",
              "741               NaN               NaN     99683064       NaN       NaN   \n",
              "742               NaN               NaN     99717689       NaN       NaN   \n",
              "743               NaN               NaN     99999680       NaN       NaN   \n",
              "\n",
              "     (sum, 2)  (sum, 4)  gender_x  gender_y  \n",
              "0         NaN       NaN         1         1  \n",
              "1         NaN       NaN         1         1  \n",
              "2         NaN       NaN         0         0  \n",
              "3         NaN       NaN         1         1  \n",
              "4         NaN       NaN         1         1  \n",
              "..        ...       ...       ...       ...  \n",
              "739       NaN       NaN         1         1  \n",
              "740       NaN       NaN         0         0  \n",
              "741       NaN       NaN         0         0  \n",
              "742       NaN       NaN         1         1  \n",
              "743       NaN       NaN         1         1  \n",
              "\n",
              "[744 rows x 13 columns]"
            ],
            "text/html": [
              "\n",
              "  <div id=\"df-412a07c5-a66c-4bce-b3c1-3f89e156d3df\">\n",
              "    <div class=\"colab-df-container\">\n",
              "      <div>\n",
              "<style scoped>\n",
              "    .dataframe tbody tr th:only-of-type {\n",
              "        vertical-align: middle;\n",
              "    }\n",
              "\n",
              "    .dataframe tbody tr th {\n",
              "        vertical-align: top;\n",
              "    }\n",
              "\n",
              "    .dataframe thead th {\n",
              "        text-align: right;\n",
              "    }\n",
              "</style>\n",
              "<table border=\"1\" class=\"dataframe\">\n",
              "  <thead>\n",
              "    <tr style=\"text-align: right;\">\n",
              "      <th></th>\n",
              "      <th>count_category_0</th>\n",
              "      <th>count_category_1</th>\n",
              "      <th>count_category_2</th>\n",
              "      <th>count_category_3</th>\n",
              "      <th>count_category_4</th>\n",
              "      <th>count_category_5</th>\n",
              "      <th>customer_id</th>\n",
              "      <th>(sum, 0)</th>\n",
              "      <th>(sum, 1)</th>\n",
              "      <th>(sum, 2)</th>\n",
              "      <th>(sum, 4)</th>\n",
              "      <th>gender_x</th>\n",
              "      <th>gender_y</th>\n",
              "    </tr>\n",
              "  </thead>\n",
              "  <tbody>\n",
              "    <tr>\n",
              "      <th>0</th>\n",
              "      <td>8.0</td>\n",
              "      <td>5.0</td>\n",
              "      <td>NaN</td>\n",
              "      <td>NaN</td>\n",
              "      <td>NaN</td>\n",
              "      <td>NaN</td>\n",
              "      <td>115617</td>\n",
              "      <td>NaN</td>\n",
              "      <td>NaN</td>\n",
              "      <td>NaN</td>\n",
              "      <td>NaN</td>\n",
              "      <td>1</td>\n",
              "      <td>1</td>\n",
              "    </tr>\n",
              "    <tr>\n",
              "      <th>1</th>\n",
              "      <td>8.0</td>\n",
              "      <td>2.0</td>\n",
              "      <td>NaN</td>\n",
              "      <td>NaN</td>\n",
              "      <td>NaN</td>\n",
              "      <td>NaN</td>\n",
              "      <td>189257</td>\n",
              "      <td>NaN</td>\n",
              "      <td>NaN</td>\n",
              "      <td>NaN</td>\n",
              "      <td>NaN</td>\n",
              "      <td>1</td>\n",
              "      <td>1</td>\n",
              "    </tr>\n",
              "    <tr>\n",
              "      <th>2</th>\n",
              "      <td>10.0</td>\n",
              "      <td>6.0</td>\n",
              "      <td>NaN</td>\n",
              "      <td>NaN</td>\n",
              "      <td>NaN</td>\n",
              "      <td>NaN</td>\n",
              "      <td>293048</td>\n",
              "      <td>NaN</td>\n",
              "      <td>NaN</td>\n",
              "      <td>NaN</td>\n",
              "      <td>NaN</td>\n",
              "      <td>0</td>\n",
              "      <td>0</td>\n",
              "    </tr>\n",
              "    <tr>\n",
              "      <th>3</th>\n",
              "      <td>2.0</td>\n",
              "      <td>NaN</td>\n",
              "      <td>NaN</td>\n",
              "      <td>NaN</td>\n",
              "      <td>1.0</td>\n",
              "      <td>NaN</td>\n",
              "      <td>361458</td>\n",
              "      <td>NaN</td>\n",
              "      <td>NaN</td>\n",
              "      <td>NaN</td>\n",
              "      <td>NaN</td>\n",
              "      <td>1</td>\n",
              "      <td>1</td>\n",
              "    </tr>\n",
              "    <tr>\n",
              "      <th>4</th>\n",
              "      <td>4.0</td>\n",
              "      <td>NaN</td>\n",
              "      <td>NaN</td>\n",
              "      <td>NaN</td>\n",
              "      <td>NaN</td>\n",
              "      <td>NaN</td>\n",
              "      <td>496551</td>\n",
              "      <td>NaN</td>\n",
              "      <td>NaN</td>\n",
              "      <td>NaN</td>\n",
              "      <td>NaN</td>\n",
              "      <td>1</td>\n",
              "      <td>1</td>\n",
              "    </tr>\n",
              "    <tr>\n",
              "      <th>...</th>\n",
              "      <td>...</td>\n",
              "      <td>...</td>\n",
              "      <td>...</td>\n",
              "      <td>...</td>\n",
              "      <td>...</td>\n",
              "      <td>...</td>\n",
              "      <td>...</td>\n",
              "      <td>...</td>\n",
              "      <td>...</td>\n",
              "      <td>...</td>\n",
              "      <td>...</td>\n",
              "      <td>...</td>\n",
              "      <td>...</td>\n",
              "    </tr>\n",
              "    <tr>\n",
              "      <th>739</th>\n",
              "      <td>2.0</td>\n",
              "      <td>NaN</td>\n",
              "      <td>NaN</td>\n",
              "      <td>NaN</td>\n",
              "      <td>2.0</td>\n",
              "      <td>NaN</td>\n",
              "      <td>99302313</td>\n",
              "      <td>NaN</td>\n",
              "      <td>NaN</td>\n",
              "      <td>NaN</td>\n",
              "      <td>NaN</td>\n",
              "      <td>1</td>\n",
              "      <td>1</td>\n",
              "    </tr>\n",
              "    <tr>\n",
              "      <th>740</th>\n",
              "      <td>10.0</td>\n",
              "      <td>3.0</td>\n",
              "      <td>NaN</td>\n",
              "      <td>NaN</td>\n",
              "      <td>NaN</td>\n",
              "      <td>NaN</td>\n",
              "      <td>99412328</td>\n",
              "      <td>NaN</td>\n",
              "      <td>NaN</td>\n",
              "      <td>NaN</td>\n",
              "      <td>NaN</td>\n",
              "      <td>0</td>\n",
              "      <td>0</td>\n",
              "    </tr>\n",
              "    <tr>\n",
              "      <th>741</th>\n",
              "      <td>NaN</td>\n",
              "      <td>2.0</td>\n",
              "      <td>NaN</td>\n",
              "      <td>NaN</td>\n",
              "      <td>NaN</td>\n",
              "      <td>NaN</td>\n",
              "      <td>99683064</td>\n",
              "      <td>NaN</td>\n",
              "      <td>NaN</td>\n",
              "      <td>NaN</td>\n",
              "      <td>NaN</td>\n",
              "      <td>0</td>\n",
              "      <td>0</td>\n",
              "    </tr>\n",
              "    <tr>\n",
              "      <th>742</th>\n",
              "      <td>1.0</td>\n",
              "      <td>NaN</td>\n",
              "      <td>NaN</td>\n",
              "      <td>NaN</td>\n",
              "      <td>NaN</td>\n",
              "      <td>NaN</td>\n",
              "      <td>99717689</td>\n",
              "      <td>NaN</td>\n",
              "      <td>NaN</td>\n",
              "      <td>NaN</td>\n",
              "      <td>NaN</td>\n",
              "      <td>1</td>\n",
              "      <td>1</td>\n",
              "    </tr>\n",
              "    <tr>\n",
              "      <th>743</th>\n",
              "      <td>1.0</td>\n",
              "      <td>1.0</td>\n",
              "      <td>NaN</td>\n",
              "      <td>NaN</td>\n",
              "      <td>NaN</td>\n",
              "      <td>NaN</td>\n",
              "      <td>99999680</td>\n",
              "      <td>NaN</td>\n",
              "      <td>NaN</td>\n",
              "      <td>NaN</td>\n",
              "      <td>NaN</td>\n",
              "      <td>1</td>\n",
              "      <td>1</td>\n",
              "    </tr>\n",
              "  </tbody>\n",
              "</table>\n",
              "<p>744 rows × 13 columns</p>\n",
              "</div>\n",
              "      <button class=\"colab-df-convert\" onclick=\"convertToInteractive('df-412a07c5-a66c-4bce-b3c1-3f89e156d3df')\"\n",
              "              title=\"Convert this dataframe to an interactive table.\"\n",
              "              style=\"display:none;\">\n",
              "        \n",
              "  <svg xmlns=\"http://www.w3.org/2000/svg\" height=\"24px\"viewBox=\"0 0 24 24\"\n",
              "       width=\"24px\">\n",
              "    <path d=\"M0 0h24v24H0V0z\" fill=\"none\"/>\n",
              "    <path d=\"M18.56 5.44l.94 2.06.94-2.06 2.06-.94-2.06-.94-.94-2.06-.94 2.06-2.06.94zm-11 1L8.5 8.5l.94-2.06 2.06-.94-2.06-.94L8.5 2.5l-.94 2.06-2.06.94zm10 10l.94 2.06.94-2.06 2.06-.94-2.06-.94-.94-2.06-.94 2.06-2.06.94z\"/><path d=\"M17.41 7.96l-1.37-1.37c-.4-.4-.92-.59-1.43-.59-.52 0-1.04.2-1.43.59L10.3 9.45l-7.72 7.72c-.78.78-.78 2.05 0 2.83L4 21.41c.39.39.9.59 1.41.59.51 0 1.02-.2 1.41-.59l7.78-7.78 2.81-2.81c.8-.78.8-2.07 0-2.86zM5.41 20L4 18.59l7.72-7.72 1.47 1.35L5.41 20z\"/>\n",
              "  </svg>\n",
              "      </button>\n",
              "      \n",
              "  <style>\n",
              "    .colab-df-container {\n",
              "      display:flex;\n",
              "      flex-wrap:wrap;\n",
              "      gap: 12px;\n",
              "    }\n",
              "\n",
              "    .colab-df-convert {\n",
              "      background-color: #E8F0FE;\n",
              "      border: none;\n",
              "      border-radius: 50%;\n",
              "      cursor: pointer;\n",
              "      display: none;\n",
              "      fill: #1967D2;\n",
              "      height: 32px;\n",
              "      padding: 0 0 0 0;\n",
              "      width: 32px;\n",
              "    }\n",
              "\n",
              "    .colab-df-convert:hover {\n",
              "      background-color: #E2EBFA;\n",
              "      box-shadow: 0px 1px 2px rgba(60, 64, 67, 0.3), 0px 1px 3px 1px rgba(60, 64, 67, 0.15);\n",
              "      fill: #174EA6;\n",
              "    }\n",
              "\n",
              "    [theme=dark] .colab-df-convert {\n",
              "      background-color: #3B4455;\n",
              "      fill: #D2E3FC;\n",
              "    }\n",
              "\n",
              "    [theme=dark] .colab-df-convert:hover {\n",
              "      background-color: #434B5C;\n",
              "      box-shadow: 0px 1px 3px 1px rgba(0, 0, 0, 0.15);\n",
              "      filter: drop-shadow(0px 1px 2px rgba(0, 0, 0, 0.3));\n",
              "      fill: #FFFFFF;\n",
              "    }\n",
              "  </style>\n",
              "\n",
              "      <script>\n",
              "        const buttonEl =\n",
              "          document.querySelector('#df-412a07c5-a66c-4bce-b3c1-3f89e156d3df button.colab-df-convert');\n",
              "        buttonEl.style.display =\n",
              "          google.colab.kernel.accessAllowed ? 'block' : 'none';\n",
              "\n",
              "        async function convertToInteractive(key) {\n",
              "          const element = document.querySelector('#df-412a07c5-a66c-4bce-b3c1-3f89e156d3df');\n",
              "          const dataTable =\n",
              "            await google.colab.kernel.invokeFunction('convertToInteractive',\n",
              "                                                     [key], {});\n",
              "          if (!dataTable) return;\n",
              "\n",
              "          const docLinkHtml = 'Like what you see? Visit the ' +\n",
              "            '<a target=\"_blank\" href=https://colab.research.google.com/notebooks/data_table.ipynb>data table notebook</a>'\n",
              "            + ' to learn more about interactive tables.';\n",
              "          element.innerHTML = '';\n",
              "          dataTable['output_type'] = 'display_data';\n",
              "          await google.colab.output.renderOutput(dataTable, element);\n",
              "          const docLink = document.createElement('div');\n",
              "          docLink.innerHTML = docLinkHtml;\n",
              "          element.appendChild(docLink);\n",
              "        }\n",
              "      </script>\n",
              "    </div>\n",
              "  </div>\n",
              "  "
            ]
          },
          "metadata": {},
          "execution_count": 84
        }
      ]
    },
    {
      "cell_type": "markdown",
      "source": [
        "### Вопрос 1"
      ],
      "metadata": {
        "id": "DIcrEdU2yOxb"
      }
    },
    {
      "cell_type": "code",
      "source": [
        "tr_category_codes.sort_values(by='category')"
      ],
      "metadata": {
        "colab": {
          "base_uri": "https://localhost:8080/",
          "height": 614
        },
        "id": "Sq_vCncYp3mY",
        "outputId": "8c8e17af-c2f3-426e-d6e8-afa052c78cc3"
      },
      "execution_count": null,
      "outputs": [
        {
          "output_type": "execute_result",
          "data": {
            "text/plain": [
              "     mcc_code                                    mcc_description  category\n",
              "78       5697       Услуги по переделке, починке и пошиву одежды         0\n",
              "39       5137             Мужская, женская и детская спец-одежда         0\n",
              "69       5611  Мужская одежда и аксессуары, включая одежду дл...         0\n",
              "70       5621                             Готовая женская одежда         0\n",
              "72       5641  Детская одежда, включая одежду для самых мален...         0\n",
              "74       5655  Спортивная одежда, одежда для верховой езды и ...         0\n",
              "77       5691                  Магазины мужской и женской одежды         0\n",
              "79       5699            Различные магазины одежды и аксессуаров         0\n",
              "135      7230                    Салоты красоты и парикмахерские         1\n",
              "116      5977                                 Магазины косметики         1\n",
              "148      7531  Станции технического обслуживания для автомоби...         2\n",
              "146      7512                                 Прокат автомобилей         2\n",
              "6        3351                    Агентства по аренде автомобилей         2\n",
              "161      7994                        Галереи/учреждения видеоигр         3\n",
              "160      7993                        Принадлежности для видеоигр         3\n",
              "28       5045  Компьютеры, периферийное компьютерное оборудов...         4\n",
              "87       5734     Продажа компьютерного программного обеспечения         4\n",
              "163      7996  Луна-парки, карнавалы, цирки, предсказатели бу...         5"
            ],
            "text/html": [
              "\n",
              "  <div id=\"df-d6fd483c-ef50-472d-8b1f-a4b9f4323edd\">\n",
              "    <div class=\"colab-df-container\">\n",
              "      <div>\n",
              "<style scoped>\n",
              "    .dataframe tbody tr th:only-of-type {\n",
              "        vertical-align: middle;\n",
              "    }\n",
              "\n",
              "    .dataframe tbody tr th {\n",
              "        vertical-align: top;\n",
              "    }\n",
              "\n",
              "    .dataframe thead th {\n",
              "        text-align: right;\n",
              "    }\n",
              "</style>\n",
              "<table border=\"1\" class=\"dataframe\">\n",
              "  <thead>\n",
              "    <tr style=\"text-align: right;\">\n",
              "      <th></th>\n",
              "      <th>mcc_code</th>\n",
              "      <th>mcc_description</th>\n",
              "      <th>category</th>\n",
              "    </tr>\n",
              "  </thead>\n",
              "  <tbody>\n",
              "    <tr>\n",
              "      <th>78</th>\n",
              "      <td>5697</td>\n",
              "      <td>Услуги по переделке, починке и пошиву одежды</td>\n",
              "      <td>0</td>\n",
              "    </tr>\n",
              "    <tr>\n",
              "      <th>39</th>\n",
              "      <td>5137</td>\n",
              "      <td>Мужская, женская и детская спец-одежда</td>\n",
              "      <td>0</td>\n",
              "    </tr>\n",
              "    <tr>\n",
              "      <th>69</th>\n",
              "      <td>5611</td>\n",
              "      <td>Мужская одежда и аксессуары, включая одежду дл...</td>\n",
              "      <td>0</td>\n",
              "    </tr>\n",
              "    <tr>\n",
              "      <th>70</th>\n",
              "      <td>5621</td>\n",
              "      <td>Готовая женская одежда</td>\n",
              "      <td>0</td>\n",
              "    </tr>\n",
              "    <tr>\n",
              "      <th>72</th>\n",
              "      <td>5641</td>\n",
              "      <td>Детская одежда, включая одежду для самых мален...</td>\n",
              "      <td>0</td>\n",
              "    </tr>\n",
              "    <tr>\n",
              "      <th>74</th>\n",
              "      <td>5655</td>\n",
              "      <td>Спортивная одежда, одежда для верховой езды и ...</td>\n",
              "      <td>0</td>\n",
              "    </tr>\n",
              "    <tr>\n",
              "      <th>77</th>\n",
              "      <td>5691</td>\n",
              "      <td>Магазины мужской и женской одежды</td>\n",
              "      <td>0</td>\n",
              "    </tr>\n",
              "    <tr>\n",
              "      <th>79</th>\n",
              "      <td>5699</td>\n",
              "      <td>Различные магазины одежды и аксессуаров</td>\n",
              "      <td>0</td>\n",
              "    </tr>\n",
              "    <tr>\n",
              "      <th>135</th>\n",
              "      <td>7230</td>\n",
              "      <td>Салоты красоты и парикмахерские</td>\n",
              "      <td>1</td>\n",
              "    </tr>\n",
              "    <tr>\n",
              "      <th>116</th>\n",
              "      <td>5977</td>\n",
              "      <td>Магазины косметики</td>\n",
              "      <td>1</td>\n",
              "    </tr>\n",
              "    <tr>\n",
              "      <th>148</th>\n",
              "      <td>7531</td>\n",
              "      <td>Станции технического обслуживания для автомоби...</td>\n",
              "      <td>2</td>\n",
              "    </tr>\n",
              "    <tr>\n",
              "      <th>146</th>\n",
              "      <td>7512</td>\n",
              "      <td>Прокат автомобилей</td>\n",
              "      <td>2</td>\n",
              "    </tr>\n",
              "    <tr>\n",
              "      <th>6</th>\n",
              "      <td>3351</td>\n",
              "      <td>Агентства по аренде автомобилей</td>\n",
              "      <td>2</td>\n",
              "    </tr>\n",
              "    <tr>\n",
              "      <th>161</th>\n",
              "      <td>7994</td>\n",
              "      <td>Галереи/учреждения видеоигр</td>\n",
              "      <td>3</td>\n",
              "    </tr>\n",
              "    <tr>\n",
              "      <th>160</th>\n",
              "      <td>7993</td>\n",
              "      <td>Принадлежности для видеоигр</td>\n",
              "      <td>3</td>\n",
              "    </tr>\n",
              "    <tr>\n",
              "      <th>28</th>\n",
              "      <td>5045</td>\n",
              "      <td>Компьютеры, периферийное компьютерное оборудов...</td>\n",
              "      <td>4</td>\n",
              "    </tr>\n",
              "    <tr>\n",
              "      <th>87</th>\n",
              "      <td>5734</td>\n",
              "      <td>Продажа компьютерного программного обеспечения</td>\n",
              "      <td>4</td>\n",
              "    </tr>\n",
              "    <tr>\n",
              "      <th>163</th>\n",
              "      <td>7996</td>\n",
              "      <td>Луна-парки, карнавалы, цирки, предсказатели бу...</td>\n",
              "      <td>5</td>\n",
              "    </tr>\n",
              "  </tbody>\n",
              "</table>\n",
              "</div>\n",
              "      <button class=\"colab-df-convert\" onclick=\"convertToInteractive('df-d6fd483c-ef50-472d-8b1f-a4b9f4323edd')\"\n",
              "              title=\"Convert this dataframe to an interactive table.\"\n",
              "              style=\"display:none;\">\n",
              "        \n",
              "  <svg xmlns=\"http://www.w3.org/2000/svg\" height=\"24px\"viewBox=\"0 0 24 24\"\n",
              "       width=\"24px\">\n",
              "    <path d=\"M0 0h24v24H0V0z\" fill=\"none\"/>\n",
              "    <path d=\"M18.56 5.44l.94 2.06.94-2.06 2.06-.94-2.06-.94-.94-2.06-.94 2.06-2.06.94zm-11 1L8.5 8.5l.94-2.06 2.06-.94-2.06-.94L8.5 2.5l-.94 2.06-2.06.94zm10 10l.94 2.06.94-2.06 2.06-.94-2.06-.94-.94-2.06-.94 2.06-2.06.94z\"/><path d=\"M17.41 7.96l-1.37-1.37c-.4-.4-.92-.59-1.43-.59-.52 0-1.04.2-1.43.59L10.3 9.45l-7.72 7.72c-.78.78-.78 2.05 0 2.83L4 21.41c.39.39.9.59 1.41.59.51 0 1.02-.2 1.41-.59l7.78-7.78 2.81-2.81c.8-.78.8-2.07 0-2.86zM5.41 20L4 18.59l7.72-7.72 1.47 1.35L5.41 20z\"/>\n",
              "  </svg>\n",
              "      </button>\n",
              "      \n",
              "  <style>\n",
              "    .colab-df-container {\n",
              "      display:flex;\n",
              "      flex-wrap:wrap;\n",
              "      gap: 12px;\n",
              "    }\n",
              "\n",
              "    .colab-df-convert {\n",
              "      background-color: #E8F0FE;\n",
              "      border: none;\n",
              "      border-radius: 50%;\n",
              "      cursor: pointer;\n",
              "      display: none;\n",
              "      fill: #1967D2;\n",
              "      height: 32px;\n",
              "      padding: 0 0 0 0;\n",
              "      width: 32px;\n",
              "    }\n",
              "\n",
              "    .colab-df-convert:hover {\n",
              "      background-color: #E2EBFA;\n",
              "      box-shadow: 0px 1px 2px rgba(60, 64, 67, 0.3), 0px 1px 3px 1px rgba(60, 64, 67, 0.15);\n",
              "      fill: #174EA6;\n",
              "    }\n",
              "\n",
              "    [theme=dark] .colab-df-convert {\n",
              "      background-color: #3B4455;\n",
              "      fill: #D2E3FC;\n",
              "    }\n",
              "\n",
              "    [theme=dark] .colab-df-convert:hover {\n",
              "      background-color: #434B5C;\n",
              "      box-shadow: 0px 1px 3px 1px rgba(0, 0, 0, 0.15);\n",
              "      filter: drop-shadow(0px 1px 2px rgba(0, 0, 0, 0.3));\n",
              "      fill: #FFFFFF;\n",
              "    }\n",
              "  </style>\n",
              "\n",
              "      <script>\n",
              "        const buttonEl =\n",
              "          document.querySelector('#df-d6fd483c-ef50-472d-8b1f-a4b9f4323edd button.colab-df-convert');\n",
              "        buttonEl.style.display =\n",
              "          google.colab.kernel.accessAllowed ? 'block' : 'none';\n",
              "\n",
              "        async function convertToInteractive(key) {\n",
              "          const element = document.querySelector('#df-d6fd483c-ef50-472d-8b1f-a4b9f4323edd');\n",
              "          const dataTable =\n",
              "            await google.colab.kernel.invokeFunction('convertToInteractive',\n",
              "                                                     [key], {});\n",
              "          if (!dataTable) return;\n",
              "\n",
              "          const docLinkHtml = 'Like what you see? Visit the ' +\n",
              "            '<a target=\"_blank\" href=https://colab.research.google.com/notebooks/data_table.ipynb>data table notebook</a>'\n",
              "            + ' to learn more about interactive tables.';\n",
              "          element.innerHTML = '';\n",
              "          dataTable['output_type'] = 'display_data';\n",
              "          await google.colab.output.renderOutput(dataTable, element);\n",
              "          const docLink = document.createElement('div');\n",
              "          docLink.innerHTML = docLinkHtml;\n",
              "          element.appendChild(docLink);\n",
              "        }\n",
              "      </script>\n",
              "    </div>\n",
              "  </div>\n",
              "  "
            ]
          },
          "metadata": {},
          "execution_count": 72
        }
      ]
    },
    {
      "cell_type": "code",
      "source": [
        "new_df[new_df['customer_id'] == 293048].dropna(axis=1)"
      ],
      "metadata": {
        "colab": {
          "base_uri": "https://localhost:8080/",
          "height": 81
        },
        "id": "9whR-MwFucXg",
        "outputId": "b024f44a-68d3-4fdf-afe0-7782ded95a92"
      },
      "execution_count": null,
      "outputs": [
        {
          "output_type": "execute_result",
          "data": {
            "text/plain": [
              "   count_category_0  count_category_1  customer_id  gender\n",
              "2              10.0               6.0       293048       0"
            ],
            "text/html": [
              "\n",
              "  <div id=\"df-2a0ecd6a-5090-42d9-a1f9-dff24f3ec6af\">\n",
              "    <div class=\"colab-df-container\">\n",
              "      <div>\n",
              "<style scoped>\n",
              "    .dataframe tbody tr th:only-of-type {\n",
              "        vertical-align: middle;\n",
              "    }\n",
              "\n",
              "    .dataframe tbody tr th {\n",
              "        vertical-align: top;\n",
              "    }\n",
              "\n",
              "    .dataframe thead th {\n",
              "        text-align: right;\n",
              "    }\n",
              "</style>\n",
              "<table border=\"1\" class=\"dataframe\">\n",
              "  <thead>\n",
              "    <tr style=\"text-align: right;\">\n",
              "      <th></th>\n",
              "      <th>count_category_0</th>\n",
              "      <th>count_category_1</th>\n",
              "      <th>customer_id</th>\n",
              "      <th>gender</th>\n",
              "    </tr>\n",
              "  </thead>\n",
              "  <tbody>\n",
              "    <tr>\n",
              "      <th>2</th>\n",
              "      <td>10.0</td>\n",
              "      <td>6.0</td>\n",
              "      <td>293048</td>\n",
              "      <td>0</td>\n",
              "    </tr>\n",
              "  </tbody>\n",
              "</table>\n",
              "</div>\n",
              "      <button class=\"colab-df-convert\" onclick=\"convertToInteractive('df-2a0ecd6a-5090-42d9-a1f9-dff24f3ec6af')\"\n",
              "              title=\"Convert this dataframe to an interactive table.\"\n",
              "              style=\"display:none;\">\n",
              "        \n",
              "  <svg xmlns=\"http://www.w3.org/2000/svg\" height=\"24px\"viewBox=\"0 0 24 24\"\n",
              "       width=\"24px\">\n",
              "    <path d=\"M0 0h24v24H0V0z\" fill=\"none\"/>\n",
              "    <path d=\"M18.56 5.44l.94 2.06.94-2.06 2.06-.94-2.06-.94-.94-2.06-.94 2.06-2.06.94zm-11 1L8.5 8.5l.94-2.06 2.06-.94-2.06-.94L8.5 2.5l-.94 2.06-2.06.94zm10 10l.94 2.06.94-2.06 2.06-.94-2.06-.94-.94-2.06-.94 2.06-2.06.94z\"/><path d=\"M17.41 7.96l-1.37-1.37c-.4-.4-.92-.59-1.43-.59-.52 0-1.04.2-1.43.59L10.3 9.45l-7.72 7.72c-.78.78-.78 2.05 0 2.83L4 21.41c.39.39.9.59 1.41.59.51 0 1.02-.2 1.41-.59l7.78-7.78 2.81-2.81c.8-.78.8-2.07 0-2.86zM5.41 20L4 18.59l7.72-7.72 1.47 1.35L5.41 20z\"/>\n",
              "  </svg>\n",
              "      </button>\n",
              "      \n",
              "  <style>\n",
              "    .colab-df-container {\n",
              "      display:flex;\n",
              "      flex-wrap:wrap;\n",
              "      gap: 12px;\n",
              "    }\n",
              "\n",
              "    .colab-df-convert {\n",
              "      background-color: #E8F0FE;\n",
              "      border: none;\n",
              "      border-radius: 50%;\n",
              "      cursor: pointer;\n",
              "      display: none;\n",
              "      fill: #1967D2;\n",
              "      height: 32px;\n",
              "      padding: 0 0 0 0;\n",
              "      width: 32px;\n",
              "    }\n",
              "\n",
              "    .colab-df-convert:hover {\n",
              "      background-color: #E2EBFA;\n",
              "      box-shadow: 0px 1px 2px rgba(60, 64, 67, 0.3), 0px 1px 3px 1px rgba(60, 64, 67, 0.15);\n",
              "      fill: #174EA6;\n",
              "    }\n",
              "\n",
              "    [theme=dark] .colab-df-convert {\n",
              "      background-color: #3B4455;\n",
              "      fill: #D2E3FC;\n",
              "    }\n",
              "\n",
              "    [theme=dark] .colab-df-convert:hover {\n",
              "      background-color: #434B5C;\n",
              "      box-shadow: 0px 1px 3px 1px rgba(0, 0, 0, 0.15);\n",
              "      filter: drop-shadow(0px 1px 2px rgba(0, 0, 0, 0.3));\n",
              "      fill: #FFFFFF;\n",
              "    }\n",
              "  </style>\n",
              "\n",
              "      <script>\n",
              "        const buttonEl =\n",
              "          document.querySelector('#df-2a0ecd6a-5090-42d9-a1f9-dff24f3ec6af button.colab-df-convert');\n",
              "        buttonEl.style.display =\n",
              "          google.colab.kernel.accessAllowed ? 'block' : 'none';\n",
              "\n",
              "        async function convertToInteractive(key) {\n",
              "          const element = document.querySelector('#df-2a0ecd6a-5090-42d9-a1f9-dff24f3ec6af');\n",
              "          const dataTable =\n",
              "            await google.colab.kernel.invokeFunction('convertToInteractive',\n",
              "                                                     [key], {});\n",
              "          if (!dataTable) return;\n",
              "\n",
              "          const docLinkHtml = 'Like what you see? Visit the ' +\n",
              "            '<a target=\"_blank\" href=https://colab.research.google.com/notebooks/data_table.ipynb>data table notebook</a>'\n",
              "            + ' to learn more about interactive tables.';\n",
              "          element.innerHTML = '';\n",
              "          dataTable['output_type'] = 'display_data';\n",
              "          await google.colab.output.renderOutput(dataTable, element);\n",
              "          const docLink = document.createElement('div');\n",
              "          docLink.innerHTML = docLinkHtml;\n",
              "          element.appendChild(docLink);\n",
              "        }\n",
              "      </script>\n",
              "    </div>\n",
              "  </div>\n",
              "  "
            ]
          },
          "metadata": {},
          "execution_count": 77
        }
      ]
    },
    {
      "cell_type": "markdown",
      "source": [
        "### Вопрос 2"
      ],
      "metadata": {
        "id": "dpszZvBop1C0"
      }
    },
    {
      "cell_type": "code",
      "source": [
        "def all_none_check(c_id):\n",
        "  return new_df[new_df['customer_id'] == c_id].dropna(axis=1).columns.__len__() == 1\n",
        "\n",
        "\n",
        "new_df.loc[new_df.customer_id.apply(all_none_check)]"
      ],
      "metadata": {
        "colab": {
          "base_uri": "https://localhost:8080/",
          "height": 49
        },
        "id": "WEyIzCEZp3--",
        "outputId": "05c53935-949b-4db1-b6bf-69935878c648"
      },
      "execution_count": null,
      "outputs": [
        {
          "output_type": "execute_result",
          "data": {
            "text/plain": [
              "Empty DataFrame\n",
              "Columns: [count_category_0, count_category_1, count_category_2, count_category_3, count_category_4, count_category_5, customer_id, (sum, 0), (sum, 1), (sum, 2), (sum, 4), gender]\n",
              "Index: []"
            ],
            "text/html": [
              "\n",
              "  <div id=\"df-28222d1d-4fa8-48d1-87dd-0462897c0728\">\n",
              "    <div class=\"colab-df-container\">\n",
              "      <div>\n",
              "<style scoped>\n",
              "    .dataframe tbody tr th:only-of-type {\n",
              "        vertical-align: middle;\n",
              "    }\n",
              "\n",
              "    .dataframe tbody tr th {\n",
              "        vertical-align: top;\n",
              "    }\n",
              "\n",
              "    .dataframe thead th {\n",
              "        text-align: right;\n",
              "    }\n",
              "</style>\n",
              "<table border=\"1\" class=\"dataframe\">\n",
              "  <thead>\n",
              "    <tr style=\"text-align: right;\">\n",
              "      <th></th>\n",
              "      <th>count_category_0</th>\n",
              "      <th>count_category_1</th>\n",
              "      <th>count_category_2</th>\n",
              "      <th>count_category_3</th>\n",
              "      <th>count_category_4</th>\n",
              "      <th>count_category_5</th>\n",
              "      <th>customer_id</th>\n",
              "      <th>(sum, 0)</th>\n",
              "      <th>(sum, 1)</th>\n",
              "      <th>(sum, 2)</th>\n",
              "      <th>(sum, 4)</th>\n",
              "      <th>gender</th>\n",
              "    </tr>\n",
              "  </thead>\n",
              "  <tbody>\n",
              "  </tbody>\n",
              "</table>\n",
              "</div>\n",
              "      <button class=\"colab-df-convert\" onclick=\"convertToInteractive('df-28222d1d-4fa8-48d1-87dd-0462897c0728')\"\n",
              "              title=\"Convert this dataframe to an interactive table.\"\n",
              "              style=\"display:none;\">\n",
              "        \n",
              "  <svg xmlns=\"http://www.w3.org/2000/svg\" height=\"24px\"viewBox=\"0 0 24 24\"\n",
              "       width=\"24px\">\n",
              "    <path d=\"M0 0h24v24H0V0z\" fill=\"none\"/>\n",
              "    <path d=\"M18.56 5.44l.94 2.06.94-2.06 2.06-.94-2.06-.94-.94-2.06-.94 2.06-2.06.94zm-11 1L8.5 8.5l.94-2.06 2.06-.94-2.06-.94L8.5 2.5l-.94 2.06-2.06.94zm10 10l.94 2.06.94-2.06 2.06-.94-2.06-.94-.94-2.06-.94 2.06-2.06.94z\"/><path d=\"M17.41 7.96l-1.37-1.37c-.4-.4-.92-.59-1.43-.59-.52 0-1.04.2-1.43.59L10.3 9.45l-7.72 7.72c-.78.78-.78 2.05 0 2.83L4 21.41c.39.39.9.59 1.41.59.51 0 1.02-.2 1.41-.59l7.78-7.78 2.81-2.81c.8-.78.8-2.07 0-2.86zM5.41 20L4 18.59l7.72-7.72 1.47 1.35L5.41 20z\"/>\n",
              "  </svg>\n",
              "      </button>\n",
              "      \n",
              "  <style>\n",
              "    .colab-df-container {\n",
              "      display:flex;\n",
              "      flex-wrap:wrap;\n",
              "      gap: 12px;\n",
              "    }\n",
              "\n",
              "    .colab-df-convert {\n",
              "      background-color: #E8F0FE;\n",
              "      border: none;\n",
              "      border-radius: 50%;\n",
              "      cursor: pointer;\n",
              "      display: none;\n",
              "      fill: #1967D2;\n",
              "      height: 32px;\n",
              "      padding: 0 0 0 0;\n",
              "      width: 32px;\n",
              "    }\n",
              "\n",
              "    .colab-df-convert:hover {\n",
              "      background-color: #E2EBFA;\n",
              "      box-shadow: 0px 1px 2px rgba(60, 64, 67, 0.3), 0px 1px 3px 1px rgba(60, 64, 67, 0.15);\n",
              "      fill: #174EA6;\n",
              "    }\n",
              "\n",
              "    [theme=dark] .colab-df-convert {\n",
              "      background-color: #3B4455;\n",
              "      fill: #D2E3FC;\n",
              "    }\n",
              "\n",
              "    [theme=dark] .colab-df-convert:hover {\n",
              "      background-color: #434B5C;\n",
              "      box-shadow: 0px 1px 3px 1px rgba(0, 0, 0, 0.15);\n",
              "      filter: drop-shadow(0px 1px 2px rgba(0, 0, 0, 0.3));\n",
              "      fill: #FFFFFF;\n",
              "    }\n",
              "  </style>\n",
              "\n",
              "      <script>\n",
              "        const buttonEl =\n",
              "          document.querySelector('#df-28222d1d-4fa8-48d1-87dd-0462897c0728 button.colab-df-convert');\n",
              "        buttonEl.style.display =\n",
              "          google.colab.kernel.accessAllowed ? 'block' : 'none';\n",
              "\n",
              "        async function convertToInteractive(key) {\n",
              "          const element = document.querySelector('#df-28222d1d-4fa8-48d1-87dd-0462897c0728');\n",
              "          const dataTable =\n",
              "            await google.colab.kernel.invokeFunction('convertToInteractive',\n",
              "                                                     [key], {});\n",
              "          if (!dataTable) return;\n",
              "\n",
              "          const docLinkHtml = 'Like what you see? Visit the ' +\n",
              "            '<a target=\"_blank\" href=https://colab.research.google.com/notebooks/data_table.ipynb>data table notebook</a>'\n",
              "            + ' to learn more about interactive tables.';\n",
              "          element.innerHTML = '';\n",
              "          dataTable['output_type'] = 'display_data';\n",
              "          await google.colab.output.renderOutput(dataTable, element);\n",
              "          const docLink = document.createElement('div');\n",
              "          docLink.innerHTML = docLinkHtml;\n",
              "          element.appendChild(docLink);\n",
              "        }\n",
              "      </script>\n",
              "    </div>\n",
              "  </div>\n",
              "  "
            ]
          },
          "metadata": {},
          "execution_count": 83
        }
      ]
    },
    {
      "cell_type": "markdown",
      "source": [
        "### Вопрос 3"
      ],
      "metadata": {
        "id": "tqIdMfIRp2wN"
      }
    },
    {
      "cell_type": "code",
      "source": [
        "def max_count(c_id):\n",
        "  return new_df[new_df['customer_id'] == 115617].dropna(axis=1).columns.__len__() - 1"
      ],
      "metadata": {
        "id": "TkXfYMC-yslq"
      },
      "execution_count": null,
      "outputs": []
    },
    {
      "cell_type": "code",
      "source": [
        "new_df['count'] = new_df.customer_id.apply(max_count)\n",
        "new_df[['customer_id', 'count']]"
      ],
      "metadata": {
        "colab": {
          "base_uri": "https://localhost:8080/",
          "height": 304
        },
        "id": "Sn-3UWSszvtW",
        "outputId": "1f415cb5-ae17-4de4-8fc6-fbb669d4f218"
      },
      "execution_count": null,
      "outputs": [
        {
          "output_type": "error",
          "ename": "AttributeError",
          "evalue": "ignored",
          "traceback": [
            "\u001b[0;31m---------------------------------------------------------------------------\u001b[0m",
            "\u001b[0;31mAttributeError\u001b[0m                            Traceback (most recent call last)",
            "\u001b[0;32m<ipython-input-92-b8ce941ed84d>\u001b[0m in \u001b[0;36m<module>\u001b[0;34m\u001b[0m\n\u001b[0;32m----> 1\u001b[0;31m \u001b[0mnew_df\u001b[0m\u001b[0;34m[\u001b[0m\u001b[0;34m'count'\u001b[0m\u001b[0;34m]\u001b[0m \u001b[0;34m=\u001b[0m \u001b[0mnew_df\u001b[0m\u001b[0;34m.\u001b[0m\u001b[0mcustomer_id\u001b[0m\u001b[0;34m.\u001b[0m\u001b[0mapply\u001b[0m\u001b[0;34m(\u001b[0m\u001b[0mmax_count\u001b[0m\u001b[0;34m)\u001b[0m\u001b[0;34m\u001b[0m\u001b[0;34m\u001b[0m\u001b[0m\n\u001b[0m\u001b[1;32m      2\u001b[0m \u001b[0mnew_df\u001b[0m\u001b[0;34m[\u001b[0m\u001b[0;34m[\u001b[0m\u001b[0;34m'customer_id'\u001b[0m\u001b[0;34m,\u001b[0m \u001b[0;34m'count'\u001b[0m\u001b[0;34m]\u001b[0m\u001b[0;34m]\u001b[0m\u001b[0;34m\u001b[0m\u001b[0;34m\u001b[0m\u001b[0m\n",
            "\u001b[0;32m/usr/local/lib/python3.8/dist-packages/pandas/core/generic.py\u001b[0m in \u001b[0;36m__getattr__\u001b[0;34m(self, name)\u001b[0m\n\u001b[1;32m   5485\u001b[0m         ):\n\u001b[1;32m   5486\u001b[0m             \u001b[0;32mreturn\u001b[0m \u001b[0mself\u001b[0m\u001b[0;34m[\u001b[0m\u001b[0mname\u001b[0m\u001b[0;34m]\u001b[0m\u001b[0;34m\u001b[0m\u001b[0;34m\u001b[0m\u001b[0m\n\u001b[0;32m-> 5487\u001b[0;31m         \u001b[0;32mreturn\u001b[0m \u001b[0mobject\u001b[0m\u001b[0;34m.\u001b[0m\u001b[0m__getattribute__\u001b[0m\u001b[0;34m(\u001b[0m\u001b[0mself\u001b[0m\u001b[0;34m,\u001b[0m \u001b[0mname\u001b[0m\u001b[0;34m)\u001b[0m\u001b[0;34m\u001b[0m\u001b[0;34m\u001b[0m\u001b[0m\n\u001b[0m\u001b[1;32m   5488\u001b[0m \u001b[0;34m\u001b[0m\u001b[0m\n\u001b[1;32m   5489\u001b[0m     \u001b[0;32mdef\u001b[0m \u001b[0m__setattr__\u001b[0m\u001b[0;34m(\u001b[0m\u001b[0mself\u001b[0m\u001b[0;34m,\u001b[0m \u001b[0mname\u001b[0m\u001b[0;34m:\u001b[0m \u001b[0mstr\u001b[0m\u001b[0;34m,\u001b[0m \u001b[0mvalue\u001b[0m\u001b[0;34m)\u001b[0m \u001b[0;34m->\u001b[0m \u001b[0;32mNone\u001b[0m\u001b[0;34m:\u001b[0m\u001b[0;34m\u001b[0m\u001b[0;34m\u001b[0m\u001b[0m\n",
            "\u001b[0;31mAttributeError\u001b[0m: 'Series' object has no attribute 'customer_id'"
          ]
        }
      ]
    },
    {
      "cell_type": "markdown",
      "source": [
        "не успел дописать"
      ],
      "metadata": {
        "id": "VrvhupiPztFW"
      }
    },
    {
      "cell_type": "markdown",
      "metadata": {
        "id": "hiXRvXuACblp"
      },
      "source": [
        "# Задание 2 (3 балла)"
      ]
    },
    {
      "cell_type": "markdown",
      "metadata": {
        "id": "RE1BmT7dCetf"
      },
      "source": [
        "Модель - многослойная нейронная сеть минимум с двумя скрытыми слоями и с dropout. Количество нейронов в каждом слое выбираете самостоятельно.\n",
        "Функции активации, метод оптимизации, скорость обучения, вероятность dropout - выбираете самостоятельно\n",
        "\n",
        "Модель нужно строить с помощью keras или torch\n",
        "\n",
        "Настроить параметры модели."
      ]
    },
    {
      "cell_type": "markdown",
      "source": [
        "## Вопросы к заданию 2"
      ],
      "metadata": {
        "id": "VQXP8vbzxHQA"
      }
    },
    {
      "cell_type": "markdown",
      "source": [
        "1. Перечислите все гиперпараметры и их значения вот в таком формате (значения приведены примерные, у вас могут быть другие):\n",
        "\n",
        "* количество эпох: 5\n",
        "* скорость обучения: 0.0001\n",
        "* функция активация на скрытых слоях: ReLU\n",
        "* и т.д.\n",
        "\n",
        "2. Сколько у вашей модели параметров?"
      ],
      "metadata": {
        "id": "TWc06aYwxMcZ"
      }
    },
    {
      "cell_type": "markdown",
      "source": [
        "## Ответы:"
      ],
      "metadata": {
        "id": "b7U1RuIYyQyE"
      }
    },
    {
      "cell_type": "markdown",
      "source": [],
      "metadata": {
        "id": "I5pJVKHwyTUH"
      }
    },
    {
      "cell_type": "markdown",
      "metadata": {
        "id": "vjOJsBFsDOll"
      },
      "source": [
        "# Задание 3 (2 балла)"
      ]
    },
    {
      "cell_type": "markdown",
      "metadata": {
        "id": "FXHBaQF1CnuI"
      },
      "source": [
        "\n",
        "Проверить качество модели не менее, чем на трёх разных метриках. "
      ]
    },
    {
      "cell_type": "markdown",
      "source": [
        "## Вопросы к заданию 3"
      ],
      "metadata": {
        "id": "5iRvQtk9xv05"
      }
    },
    {
      "cell_type": "markdown",
      "source": [
        "1. Выведите значения метрик.\n",
        "2. Как улучшить модель?\n",
        "3. Для чего может понадобиться предсказание пола клиента по его транзакциям?"
      ],
      "metadata": {
        "id": "K2Ahe-rjxyM9"
      }
    },
    {
      "cell_type": "markdown",
      "source": [
        "## Ответы:"
      ],
      "metadata": {
        "id": "MnpAjlonyUSA"
      }
    },
    {
      "cell_type": "markdown",
      "metadata": {
        "id": "jnuaWWNID2O8"
      },
      "source": [
        "После завершения контрольной работы, дайте ссылку на colab в отдельном followup в своей теме на Piazza. Дайте разрешение на его просмотр.\n",
        "\n",
        "Не забудьте запустить код в последней ячейке для контроля времени выполнения."
      ]
    },
    {
      "cell_type": "code",
      "metadata": {
        "id": "fJ1wmMO4D8jN",
        "colab": {
          "base_uri": "https://localhost:8080/"
        },
        "outputId": "c01d3677-701d-4dcf-f99b-ac88c47c5188"
      },
      "source": [
        "current_datetime = datetime.now()\n",
        "print(current_datetime)"
      ],
      "execution_count": null,
      "outputs": [
        {
          "output_type": "stream",
          "name": "stdout",
          "text": [
            "2022-12-12 08:22:52.089295\n"
          ]
        }
      ]
    }
  ]
}